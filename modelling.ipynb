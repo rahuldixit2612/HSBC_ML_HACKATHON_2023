{
 "cells": [
  {
   "cell_type": "code",
   "execution_count": 1,
   "id": "23a56872",
   "metadata": {},
   "outputs": [],
   "source": [
    "import numpy as np\n",
    "import pandas as pd"
   ]
  },
  {
   "cell_type": "code",
   "execution_count": 2,
   "id": "33326a78",
   "metadata": {},
   "outputs": [],
   "source": [
    "merged_data_train = pd.read_csv(\"merged_data_train.csv\")\n",
    "merged_data_test = pd.read_csv(\"merged_data_test.csv\")"
   ]
  },
  {
   "cell_type": "code",
   "execution_count": 3,
   "id": "3482a62b",
   "metadata": {},
   "outputs": [],
   "source": [
    "old_merged_data = pd.read_csv(\"merged_data.csv\")"
   ]
  },
  {
   "cell_type": "code",
   "execution_count": 4,
   "id": "acccaef8",
   "metadata": {},
   "outputs": [
    {
     "data": {
      "text/html": [
       "<div>\n",
       "<style scoped>\n",
       "    .dataframe tbody tr th:only-of-type {\n",
       "        vertical-align: middle;\n",
       "    }\n",
       "\n",
       "    .dataframe tbody tr th {\n",
       "        vertical-align: top;\n",
       "    }\n",
       "\n",
       "    .dataframe thead th {\n",
       "        text-align: right;\n",
       "    }\n",
       "</style>\n",
       "<table border=\"1\" class=\"dataframe\">\n",
       "  <thead>\n",
       "    <tr style=\"text-align: right;\">\n",
       "      <th></th>\n",
       "      <th>V1</th>\n",
       "      <th>V2</th>\n",
       "      <th>V3</th>\n",
       "      <th>V4</th>\n",
       "      <th>V5</th>\n",
       "      <th>V6</th>\n",
       "      <th>V7</th>\n",
       "      <th>V8</th>\n",
       "      <th>V9</th>\n",
       "      <th>V10</th>\n",
       "      <th>...</th>\n",
       "      <th>V15</th>\n",
       "      <th>V16</th>\n",
       "      <th>V17</th>\n",
       "      <th>V18</th>\n",
       "      <th>V19</th>\n",
       "      <th>V20</th>\n",
       "      <th>V21</th>\n",
       "      <th>city</th>\n",
       "      <th>region</th>\n",
       "      <th>country</th>\n",
       "    </tr>\n",
       "  </thead>\n",
       "  <tbody>\n",
       "    <tr>\n",
       "      <th>0</th>\n",
       "      <td>CUID1872</td>\n",
       "      <td>TID229526</td>\n",
       "      <td>EID2062082</td>\n",
       "      <td>485.69445</td>\n",
       "      <td>2020-03-20 22:51:30</td>\n",
       "      <td>376474</td>\n",
       "      <td>A</td>\n",
       "      <td>BA1</td>\n",
       "      <td>BB425559</td>\n",
       "      <td>PD44707</td>\n",
       "      <td>...</td>\n",
       "      <td>A</td>\n",
       "      <td>2018-03-11 13:01:01</td>\n",
       "      <td>127.75.58.107</td>\n",
       "      <td>875.0</td>\n",
       "      <td>825535.0</td>\n",
       "      <td>875.0</td>\n",
       "      <td>93.265659</td>\n",
       "      <td>NaN</td>\n",
       "      <td>NaN</td>\n",
       "      <td>NaN</td>\n",
       "    </tr>\n",
       "    <tr>\n",
       "      <th>1</th>\n",
       "      <td>CUID5533</td>\n",
       "      <td>TID244499</td>\n",
       "      <td>EID1459012</td>\n",
       "      <td>393.45200</td>\n",
       "      <td>2020-04-28 07:17:12</td>\n",
       "      <td>33227</td>\n",
       "      <td>A</td>\n",
       "      <td>BA4793</td>\n",
       "      <td>BB248012</td>\n",
       "      <td>PD39453</td>\n",
       "      <td>...</td>\n",
       "      <td>B</td>\n",
       "      <td>2017-12-18 00:36:55</td>\n",
       "      <td>95.60.92.198</td>\n",
       "      <td>205.0</td>\n",
       "      <td>468070.0</td>\n",
       "      <td>205.0</td>\n",
       "      <td>119.208750</td>\n",
       "      <td>Santa Cruz de Tenerife</td>\n",
       "      <td>Canary Islands</td>\n",
       "      <td>Spain</td>\n",
       "    </tr>\n",
       "    <tr>\n",
       "      <th>2</th>\n",
       "      <td>CUID5278</td>\n",
       "      <td>TID311877</td>\n",
       "      <td>EID0</td>\n",
       "      <td>375.75000</td>\n",
       "      <td>2020-08-15 04:11:43</td>\n",
       "      <td>0</td>\n",
       "      <td>F</td>\n",
       "      <td>BA5631</td>\n",
       "      <td>BB166256</td>\n",
       "      <td>PD237664</td>\n",
       "      <td>...</td>\n",
       "      <td>A</td>\n",
       "      <td>2018-03-11 10:25:26</td>\n",
       "      <td>121.128.85.95</td>\n",
       "      <td>875.0</td>\n",
       "      <td>33514.0</td>\n",
       "      <td>875.0</td>\n",
       "      <td>90.369641</td>\n",
       "      <td>Seoul</td>\n",
       "      <td>Seoul</td>\n",
       "      <td>South Korea</td>\n",
       "    </tr>\n",
       "    <tr>\n",
       "      <th>3</th>\n",
       "      <td>CUID24</td>\n",
       "      <td>TID279685</td>\n",
       "      <td>EID0</td>\n",
       "      <td>6.97225</td>\n",
       "      <td>2020-06-26 01:11:42</td>\n",
       "      <td>0</td>\n",
       "      <td>C</td>\n",
       "      <td>BA7188</td>\n",
       "      <td>BB354924</td>\n",
       "      <td>PD99032</td>\n",
       "      <td>...</td>\n",
       "      <td>B</td>\n",
       "      <td>2017-12-18 00:45:23</td>\n",
       "      <td>112.136.118.173</td>\n",
       "      <td>875.0</td>\n",
       "      <td>1777813.0</td>\n",
       "      <td>875.0</td>\n",
       "      <td>105.728428</td>\n",
       "      <td>Minato-ku</td>\n",
       "      <td>Tokyo</td>\n",
       "      <td>Japan</td>\n",
       "    </tr>\n",
       "    <tr>\n",
       "      <th>4</th>\n",
       "      <td>CUID449</td>\n",
       "      <td>TID104689</td>\n",
       "      <td>EID0</td>\n",
       "      <td>16.70000</td>\n",
       "      <td>2020-09-15 10:11:06</td>\n",
       "      <td>0</td>\n",
       "      <td>C</td>\n",
       "      <td>BA7236</td>\n",
       "      <td>BB354924</td>\n",
       "      <td>PD63422</td>\n",
       "      <td>...</td>\n",
       "      <td>A</td>\n",
       "      <td>2017-12-18 08:45:17</td>\n",
       "      <td>66.83.174.100</td>\n",
       "      <td>875.0</td>\n",
       "      <td>33514.0</td>\n",
       "      <td>875.0</td>\n",
       "      <td>87.130607</td>\n",
       "      <td>Little Rock</td>\n",
       "      <td>Arkansas</td>\n",
       "      <td>United States</td>\n",
       "    </tr>\n",
       "  </tbody>\n",
       "</table>\n",
       "<p>5 rows × 25 columns</p>\n",
       "</div>"
      ],
      "text/plain": [
       "         V1         V2          V3         V4                   V5      V6 V7  \\\n",
       "0  CUID1872  TID229526  EID2062082  485.69445  2020-03-20 22:51:30  376474  A   \n",
       "1  CUID5533  TID244499  EID1459012  393.45200  2020-04-28 07:17:12   33227  A   \n",
       "2  CUID5278  TID311877        EID0  375.75000  2020-08-15 04:11:43       0  F   \n",
       "3    CUID24  TID279685        EID0    6.97225  2020-06-26 01:11:42       0  C   \n",
       "4   CUID449  TID104689        EID0   16.70000  2020-09-15 10:11:06       0  C   \n",
       "\n",
       "       V8        V9       V10  ... V15                  V16              V17  \\\n",
       "0     BA1  BB425559   PD44707  ...   A  2018-03-11 13:01:01    127.75.58.107   \n",
       "1  BA4793  BB248012   PD39453  ...   B  2017-12-18 00:36:55     95.60.92.198   \n",
       "2  BA5631  BB166256  PD237664  ...   A  2018-03-11 10:25:26    121.128.85.95   \n",
       "3  BA7188  BB354924   PD99032  ...   B  2017-12-18 00:45:23  112.136.118.173   \n",
       "4  BA7236  BB354924   PD63422  ...   A  2017-12-18 08:45:17    66.83.174.100   \n",
       "\n",
       "     V18        V19    V20         V21                    city  \\\n",
       "0  875.0   825535.0  875.0   93.265659                     NaN   \n",
       "1  205.0   468070.0  205.0  119.208750  Santa Cruz de Tenerife   \n",
       "2  875.0    33514.0  875.0   90.369641                   Seoul   \n",
       "3  875.0  1777813.0  875.0  105.728428               Minato-ku   \n",
       "4  875.0    33514.0  875.0   87.130607             Little Rock   \n",
       "\n",
       "           region        country  \n",
       "0             NaN            NaN  \n",
       "1  Canary Islands          Spain  \n",
       "2           Seoul    South Korea  \n",
       "3           Tokyo          Japan  \n",
       "4        Arkansas  United States  \n",
       "\n",
       "[5 rows x 25 columns]"
      ]
     },
     "execution_count": 4,
     "metadata": {},
     "output_type": "execute_result"
    }
   ],
   "source": [
    "old_merged_data.head()"
   ]
  },
  {
   "cell_type": "code",
   "execution_count": 5,
   "id": "b91c4874",
   "metadata": {},
   "outputs": [
    {
     "data": {
      "text/html": [
       "<div>\n",
       "<style scoped>\n",
       "    .dataframe tbody tr th:only-of-type {\n",
       "        vertical-align: middle;\n",
       "    }\n",
       "\n",
       "    .dataframe tbody tr th {\n",
       "        vertical-align: top;\n",
       "    }\n",
       "\n",
       "    .dataframe thead th {\n",
       "        text-align: right;\n",
       "    }\n",
       "</style>\n",
       "<table border=\"1\" class=\"dataframe\">\n",
       "  <thead>\n",
       "    <tr style=\"text-align: right;\">\n",
       "      <th></th>\n",
       "      <th>V1</th>\n",
       "      <th>V2</th>\n",
       "      <th>V4</th>\n",
       "      <th>V6</th>\n",
       "      <th>V7</th>\n",
       "      <th>V8</th>\n",
       "      <th>V9</th>\n",
       "      <th>V10</th>\n",
       "      <th>V12</th>\n",
       "      <th>Target</th>\n",
       "      <th>V14</th>\n",
       "      <th>V15</th>\n",
       "      <th>V18</th>\n",
       "      <th>V19</th>\n",
       "      <th>V20</th>\n",
       "      <th>V21</th>\n",
       "    </tr>\n",
       "  </thead>\n",
       "  <tbody>\n",
       "    <tr>\n",
       "      <th>0</th>\n",
       "      <td>CUID1872</td>\n",
       "      <td>TID229526</td>\n",
       "      <td>485.69445</td>\n",
       "      <td>376474</td>\n",
       "      <td>A</td>\n",
       "      <td>BA1</td>\n",
       "      <td>BB425559</td>\n",
       "      <td>PD44707</td>\n",
       "      <td>CP0</td>\n",
       "      <td>0</td>\n",
       "      <td>B170291</td>\n",
       "      <td>A</td>\n",
       "      <td>875.0</td>\n",
       "      <td>825535.0</td>\n",
       "      <td>875.0</td>\n",
       "      <td>93.265659</td>\n",
       "    </tr>\n",
       "    <tr>\n",
       "      <th>1</th>\n",
       "      <td>CUID5533</td>\n",
       "      <td>TID244499</td>\n",
       "      <td>393.45200</td>\n",
       "      <td>33227</td>\n",
       "      <td>A</td>\n",
       "      <td>BA4793</td>\n",
       "      <td>BB248012</td>\n",
       "      <td>PD39453</td>\n",
       "      <td>CP0</td>\n",
       "      <td>0</td>\n",
       "      <td>B170291</td>\n",
       "      <td>B</td>\n",
       "      <td>205.0</td>\n",
       "      <td>468070.0</td>\n",
       "      <td>205.0</td>\n",
       "      <td>119.208750</td>\n",
       "    </tr>\n",
       "    <tr>\n",
       "      <th>2</th>\n",
       "      <td>CUID5278</td>\n",
       "      <td>TID311877</td>\n",
       "      <td>375.75000</td>\n",
       "      <td>0</td>\n",
       "      <td>F</td>\n",
       "      <td>BA5631</td>\n",
       "      <td>BB166256</td>\n",
       "      <td>PD237664</td>\n",
       "      <td>CP0</td>\n",
       "      <td>0</td>\n",
       "      <td>B170291</td>\n",
       "      <td>A</td>\n",
       "      <td>875.0</td>\n",
       "      <td>33514.0</td>\n",
       "      <td>875.0</td>\n",
       "      <td>90.369641</td>\n",
       "    </tr>\n",
       "    <tr>\n",
       "      <th>3</th>\n",
       "      <td>CUID24</td>\n",
       "      <td>TID279685</td>\n",
       "      <td>6.97225</td>\n",
       "      <td>0</td>\n",
       "      <td>C</td>\n",
       "      <td>BA7188</td>\n",
       "      <td>BB354924</td>\n",
       "      <td>PD99032</td>\n",
       "      <td>CP0</td>\n",
       "      <td>0</td>\n",
       "      <td>B4995</td>\n",
       "      <td>B</td>\n",
       "      <td>875.0</td>\n",
       "      <td>1777813.0</td>\n",
       "      <td>875.0</td>\n",
       "      <td>105.728428</td>\n",
       "    </tr>\n",
       "    <tr>\n",
       "      <th>4</th>\n",
       "      <td>CUID449</td>\n",
       "      <td>TID104689</td>\n",
       "      <td>16.70000</td>\n",
       "      <td>0</td>\n",
       "      <td>C</td>\n",
       "      <td>BA7236</td>\n",
       "      <td>BB354924</td>\n",
       "      <td>PD63422</td>\n",
       "      <td>CP0</td>\n",
       "      <td>0</td>\n",
       "      <td>B170291</td>\n",
       "      <td>A</td>\n",
       "      <td>875.0</td>\n",
       "      <td>33514.0</td>\n",
       "      <td>875.0</td>\n",
       "      <td>87.130607</td>\n",
       "    </tr>\n",
       "  </tbody>\n",
       "</table>\n",
       "</div>"
      ],
      "text/plain": [
       "         V1         V2         V4      V6 V7      V8        V9       V10  V12  \\\n",
       "0  CUID1872  TID229526  485.69445  376474  A     BA1  BB425559   PD44707  CP0   \n",
       "1  CUID5533  TID244499  393.45200   33227  A  BA4793  BB248012   PD39453  CP0   \n",
       "2  CUID5278  TID311877  375.75000       0  F  BA5631  BB166256  PD237664  CP0   \n",
       "3    CUID24  TID279685    6.97225       0  C  BA7188  BB354924   PD99032  CP0   \n",
       "4   CUID449  TID104689   16.70000       0  C  BA7236  BB354924   PD63422  CP0   \n",
       "\n",
       "   Target      V14 V15    V18        V19    V20         V21  \n",
       "0       0  B170291   A  875.0   825535.0  875.0   93.265659  \n",
       "1       0  B170291   B  205.0   468070.0  205.0  119.208750  \n",
       "2       0  B170291   A  875.0    33514.0  875.0   90.369641  \n",
       "3       0    B4995   B  875.0  1777813.0  875.0  105.728428  \n",
       "4       0  B170291   A  875.0    33514.0  875.0   87.130607  "
      ]
     },
     "execution_count": 5,
     "metadata": {},
     "output_type": "execute_result"
    }
   ],
   "source": [
    "merged_data_train.head()"
   ]
  },
  {
   "cell_type": "code",
   "execution_count": 6,
   "id": "89269bc8",
   "metadata": {},
   "outputs": [
    {
     "data": {
      "text/plain": [
       "count    233469.000000\n",
       "mean        101.941597\n",
       "std          26.346907\n",
       "min          56.062727\n",
       "25%          87.893642\n",
       "50%          93.916806\n",
       "75%         105.823844\n",
       "max         390.930000\n",
       "Name: V21, dtype: float64"
      ]
     },
     "execution_count": 6,
     "metadata": {},
     "output_type": "execute_result"
    }
   ],
   "source": [
    "merged_data_train[\"V21\"].describe()"
   ]
  },
  {
   "cell_type": "code",
   "execution_count": 8,
   "id": "40f04a72",
   "metadata": {},
   "outputs": [
    {
     "data": {
      "text/plain": [
       "count    215779.000000\n",
       "mean         98.406094\n",
       "std          21.258062\n",
       "min          52.499780\n",
       "25%          86.785451\n",
       "50%          92.306775\n",
       "75%         102.640553\n",
       "max         268.675082\n",
       "Name: V21, dtype: float64"
      ]
     },
     "execution_count": 8,
     "metadata": {},
     "output_type": "execute_result"
    }
   ],
   "source": [
    "merged_data_test[\"V21\"].describe()"
   ]
  },
  {
   "cell_type": "code",
   "execution_count": 9,
   "id": "dc31512f",
   "metadata": {},
   "outputs": [],
   "source": [
    "pd.options.display.float_format = '{:,.4f}'.format\n",
    "pd.set_option(\"display.max_columns\", None)"
   ]
  },
  {
   "cell_type": "code",
   "execution_count": 13,
   "id": "1017ba34",
   "metadata": {},
   "outputs": [],
   "source": [
    "# cols_to_drop = [\"V3\", \"V5\", \"V16\", \"V17\", \"V11\", \"V13\", \"V21\"]\n",
    "# cols_to_drop = [ \"V21\"]"
   ]
  },
  {
   "cell_type": "code",
   "execution_count": 14,
   "id": "7ff7ad07",
   "metadata": {},
   "outputs": [
    {
     "data": {
      "text/plain": [
       "Index(['V1', 'V2', 'V4', 'V6', 'V7', 'V8', 'V9', 'V10', 'V12', 'Target', 'V14',\n",
       "       'V15', 'V18', 'V19', 'V20', 'V21'],\n",
       "      dtype='object')"
      ]
     },
     "execution_count": 14,
     "metadata": {},
     "output_type": "execute_result"
    }
   ],
   "source": [
    "merged_data_train.columns"
   ]
  },
  {
   "cell_type": "code",
   "execution_count": 15,
   "id": "bed6f34e",
   "metadata": {},
   "outputs": [],
   "source": [
    "# cols_to_drop = ['cumpulatime_amounts', 'prior_total_amount', 'prior_max_V4', 'prior_min_V4', 'prior_avg_V4', \"country_mapping\", \"asn_mapping\", \"day_v5\", \"duration_days\", \"n_transaction_prior\", \"days_passsed_since_first_transaction\", \"average_number_transaction_per_day\", \"time_of_day\"   ]"
   ]
  },
  {
   "cell_type": "code",
   "execution_count": 16,
   "id": "277f1e38",
   "metadata": {},
   "outputs": [],
   "source": [
    "merged_data_train = merged_data_train.reset_index(drop=True)"
   ]
  },
  {
   "cell_type": "code",
   "execution_count": 17,
   "id": "8eea139b",
   "metadata": {},
   "outputs": [],
   "source": [
    "# merged_data_train = merged_data_train[sorted(cols_to_keep)]\n",
    "# merged_data_test = merged_data_test[sorted(list(set(cols_to_keep)-set([\"Target\"])))]"
   ]
  },
  {
   "cell_type": "code",
   "execution_count": null,
   "id": "0185a7ad",
   "metadata": {},
   "outputs": [],
   "source": []
  },
  {
   "cell_type": "code",
   "execution_count": 18,
   "id": "ecf29ee2",
   "metadata": {},
   "outputs": [],
   "source": [
    "# merged_data_train.drop(columns=cols_to_drop, axis=1, inplace=True)\n",
    "# merged_data_test.drop(columns=cols_to_drop, axis=1, inplace=True)"
   ]
  },
  {
   "cell_type": "code",
   "execution_count": 19,
   "id": "86fe5a5c",
   "metadata": {},
   "outputs": [
    {
     "data": {
      "text/html": [
       "<div>\n",
       "<style scoped>\n",
       "    .dataframe tbody tr th:only-of-type {\n",
       "        vertical-align: middle;\n",
       "    }\n",
       "\n",
       "    .dataframe tbody tr th {\n",
       "        vertical-align: top;\n",
       "    }\n",
       "\n",
       "    .dataframe thead th {\n",
       "        text-align: right;\n",
       "    }\n",
       "</style>\n",
       "<table border=\"1\" class=\"dataframe\">\n",
       "  <thead>\n",
       "    <tr style=\"text-align: right;\">\n",
       "      <th></th>\n",
       "      <th>V1</th>\n",
       "      <th>V2</th>\n",
       "      <th>V4</th>\n",
       "      <th>V6</th>\n",
       "      <th>V7</th>\n",
       "      <th>V8</th>\n",
       "      <th>V9</th>\n",
       "      <th>V10</th>\n",
       "      <th>V12</th>\n",
       "      <th>Target</th>\n",
       "      <th>V14</th>\n",
       "      <th>V15</th>\n",
       "      <th>V18</th>\n",
       "      <th>V19</th>\n",
       "      <th>V20</th>\n",
       "      <th>V21</th>\n",
       "    </tr>\n",
       "  </thead>\n",
       "  <tbody>\n",
       "    <tr>\n",
       "      <th>0</th>\n",
       "      <td>CUID1872</td>\n",
       "      <td>TID229526</td>\n",
       "      <td>485.6945</td>\n",
       "      <td>376474</td>\n",
       "      <td>A</td>\n",
       "      <td>BA1</td>\n",
       "      <td>BB425559</td>\n",
       "      <td>PD44707</td>\n",
       "      <td>CP0</td>\n",
       "      <td>0</td>\n",
       "      <td>B170291</td>\n",
       "      <td>A</td>\n",
       "      <td>875.0000</td>\n",
       "      <td>825,535.0000</td>\n",
       "      <td>875.0000</td>\n",
       "      <td>93.2657</td>\n",
       "    </tr>\n",
       "    <tr>\n",
       "      <th>1</th>\n",
       "      <td>CUID5533</td>\n",
       "      <td>TID244499</td>\n",
       "      <td>393.4520</td>\n",
       "      <td>33227</td>\n",
       "      <td>A</td>\n",
       "      <td>BA4793</td>\n",
       "      <td>BB248012</td>\n",
       "      <td>PD39453</td>\n",
       "      <td>CP0</td>\n",
       "      <td>0</td>\n",
       "      <td>B170291</td>\n",
       "      <td>B</td>\n",
       "      <td>205.0000</td>\n",
       "      <td>468,070.0000</td>\n",
       "      <td>205.0000</td>\n",
       "      <td>119.2087</td>\n",
       "    </tr>\n",
       "    <tr>\n",
       "      <th>2</th>\n",
       "      <td>CUID5278</td>\n",
       "      <td>TID311877</td>\n",
       "      <td>375.7500</td>\n",
       "      <td>0</td>\n",
       "      <td>F</td>\n",
       "      <td>BA5631</td>\n",
       "      <td>BB166256</td>\n",
       "      <td>PD237664</td>\n",
       "      <td>CP0</td>\n",
       "      <td>0</td>\n",
       "      <td>B170291</td>\n",
       "      <td>A</td>\n",
       "      <td>875.0000</td>\n",
       "      <td>33,514.0000</td>\n",
       "      <td>875.0000</td>\n",
       "      <td>90.3696</td>\n",
       "    </tr>\n",
       "    <tr>\n",
       "      <th>3</th>\n",
       "      <td>CUID24</td>\n",
       "      <td>TID279685</td>\n",
       "      <td>6.9722</td>\n",
       "      <td>0</td>\n",
       "      <td>C</td>\n",
       "      <td>BA7188</td>\n",
       "      <td>BB354924</td>\n",
       "      <td>PD99032</td>\n",
       "      <td>CP0</td>\n",
       "      <td>0</td>\n",
       "      <td>B4995</td>\n",
       "      <td>B</td>\n",
       "      <td>875.0000</td>\n",
       "      <td>1,777,813.0000</td>\n",
       "      <td>875.0000</td>\n",
       "      <td>105.7284</td>\n",
       "    </tr>\n",
       "    <tr>\n",
       "      <th>4</th>\n",
       "      <td>CUID449</td>\n",
       "      <td>TID104689</td>\n",
       "      <td>16.7000</td>\n",
       "      <td>0</td>\n",
       "      <td>C</td>\n",
       "      <td>BA7236</td>\n",
       "      <td>BB354924</td>\n",
       "      <td>PD63422</td>\n",
       "      <td>CP0</td>\n",
       "      <td>0</td>\n",
       "      <td>B170291</td>\n",
       "      <td>A</td>\n",
       "      <td>875.0000</td>\n",
       "      <td>33,514.0000</td>\n",
       "      <td>875.0000</td>\n",
       "      <td>87.1306</td>\n",
       "    </tr>\n",
       "  </tbody>\n",
       "</table>\n",
       "</div>"
      ],
      "text/plain": [
       "         V1         V2       V4      V6 V7      V8        V9       V10  V12  \\\n",
       "0  CUID1872  TID229526 485.6945  376474  A     BA1  BB425559   PD44707  CP0   \n",
       "1  CUID5533  TID244499 393.4520   33227  A  BA4793  BB248012   PD39453  CP0   \n",
       "2  CUID5278  TID311877 375.7500       0  F  BA5631  BB166256  PD237664  CP0   \n",
       "3    CUID24  TID279685   6.9722       0  C  BA7188  BB354924   PD99032  CP0   \n",
       "4   CUID449  TID104689  16.7000       0  C  BA7236  BB354924   PD63422  CP0   \n",
       "\n",
       "   Target      V14 V15      V18            V19      V20      V21  \n",
       "0       0  B170291   A 875.0000   825,535.0000 875.0000  93.2657  \n",
       "1       0  B170291   B 205.0000   468,070.0000 205.0000 119.2087  \n",
       "2       0  B170291   A 875.0000    33,514.0000 875.0000  90.3696  \n",
       "3       0    B4995   B 875.0000 1,777,813.0000 875.0000 105.7284  \n",
       "4       0  B170291   A 875.0000    33,514.0000 875.0000  87.1306  "
      ]
     },
     "execution_count": 19,
     "metadata": {},
     "output_type": "execute_result"
    }
   ],
   "source": [
    "merged_data_train.head()"
   ]
  },
  {
   "cell_type": "code",
   "execution_count": 20,
   "id": "d37ae494",
   "metadata": {},
   "outputs": [
    {
     "data": {
      "text/plain": [
       "V1          0\n",
       "V2          0\n",
       "V4          0\n",
       "V6          0\n",
       "V7          0\n",
       "V8          0\n",
       "V9          0\n",
       "V10         0\n",
       "V12         0\n",
       "Target      0\n",
       "V14       164\n",
       "V15       164\n",
       "V18       164\n",
       "V19       164\n",
       "V20       164\n",
       "V21       164\n",
       "dtype: int64"
      ]
     },
     "execution_count": 20,
     "metadata": {},
     "output_type": "execute_result"
    }
   ],
   "source": [
    "merged_data_train.isna().sum()"
   ]
  },
  {
   "cell_type": "code",
   "execution_count": 21,
   "id": "60be56ef",
   "metadata": {},
   "outputs": [],
   "source": [
    "V14_miss = merged_data_train[\"V14\"].mode().iloc[0]\n",
    "V15_miss = merged_data_train[\"V15\"].mode().iloc[0]\n",
    "V18_miss = merged_data_train[\"V18\"].mode().iloc[0]\n",
    "V19_miss = merged_data_train[\"V19\"].mode().iloc[0]\n",
    "V20_miss = merged_data_train[\"V20\"].mode().iloc[0]\n",
    "# country_mapping_miss = merged_data_train[\"country_mapping\"].mode().iloc[0]\n",
    "# asn_mapping_miss = merged_data_train[\"asn_mapping\"].mode().iloc[0]\n",
    "V21_miss = merged_data_train[\"V21\"].mean()"
   ]
  },
  {
   "cell_type": "code",
   "execution_count": 23,
   "id": "d8ca59be",
   "metadata": {},
   "outputs": [],
   "source": [
    "merged_data_train[\"V14\"].fillna(V14_miss, inplace=True)\n",
    "merged_data_train[\"V15\"].fillna(V15_miss, inplace=True)\n",
    "merged_data_train[\"V18\"].fillna(V18_miss, inplace=True)\n",
    "merged_data_train[\"V19\"].fillna(V19_miss, inplace=True)\n",
    "merged_data_train[\"V20\"].fillna(V20_miss, inplace=True)\n",
    "merged_data_train[\"V21\"].fillna(V21_miss, inplace=True)\n",
    "# merged_data_train[\"country_mapping\"].fillna(country_mapping_miss, inplace=True)\n",
    "# merged_data_train[\"asn_mapping\"].fillna(asn_mapping_miss, inplace=True)"
   ]
  },
  {
   "cell_type": "code",
   "execution_count": 24,
   "id": "286938f5",
   "metadata": {},
   "outputs": [],
   "source": [
    "merged_data_test[\"V14\"].fillna(V14_miss, inplace=True)\n",
    "merged_data_test[\"V15\"].fillna(V15_miss, inplace=True)\n",
    "merged_data_test[\"V18\"].fillna(V18_miss, inplace=True)\n",
    "merged_data_test[\"V19\"].fillna(V19_miss, inplace=True)\n",
    "merged_data_test[\"V20\"].fillna(V20_miss, inplace=True)\n",
    "# merged_data_test[\"V21\"].fillna(V21_miss, inplace=True)\n",
    "# merged_data_test[\"country_mapping\"].fillna(country_mapping_miss, inplace=True)\n",
    "# merged_data_test[\"asn_mapping\"].fillna(asn_mapping_miss, inplace=True)"
   ]
  },
  {
   "cell_type": "code",
   "execution_count": 25,
   "id": "409ece33",
   "metadata": {},
   "outputs": [],
   "source": [
    "# merged_data_train[\"V18\"] = merged_data_train[\"V18\"].astype(int)\n",
    "# merged_data_train[\"V19\"] = merged_data_train[\"V19\"].astype(int)\n",
    "# # merged_data_train[\"asn_mapping\"] = merged_data_train[\"asn_mapping\"].astype(int)\n",
    "\n",
    "# merged_data_test[\"V18\"] = merged_data_test[\"V18\"].astype(int)\n",
    "# merged_data_test[\"V19\"] = merged_data_test[\"V19\"].astype(int)\n",
    "# # merged_data_test[\"asn_mapping\"] = merged_data_test[\"asn_mapping\"].astype(int)"
   ]
  },
  {
   "cell_type": "code",
   "execution_count": 26,
   "id": "3151f579",
   "metadata": {},
   "outputs": [
    {
     "data": {
      "text/plain": [
       "V1      0\n",
       "V2      0\n",
       "V4      0\n",
       "V6      0\n",
       "V7      0\n",
       "V8      0\n",
       "V9      0\n",
       "V10     0\n",
       "V12     0\n",
       "V14     0\n",
       "V15     0\n",
       "V18     0\n",
       "V19     0\n",
       "V20     0\n",
       "V21    73\n",
       "dtype: int64"
      ]
     },
     "execution_count": 26,
     "metadata": {},
     "output_type": "execute_result"
    }
   ],
   "source": [
    "merged_data_test.isna().sum()"
   ]
  },
  {
   "cell_type": "code",
   "execution_count": 27,
   "id": "2f1eb6b8",
   "metadata": {},
   "outputs": [
    {
     "data": {
      "text/plain": [
       "V1        0\n",
       "V2        0\n",
       "V4        0\n",
       "V6        0\n",
       "V7        0\n",
       "V8        0\n",
       "V9        0\n",
       "V10       0\n",
       "V12       0\n",
       "Target    0\n",
       "V14       0\n",
       "V15       0\n",
       "V18       0\n",
       "V19       0\n",
       "V20       0\n",
       "V21       0\n",
       "dtype: int64"
      ]
     },
     "execution_count": 27,
     "metadata": {},
     "output_type": "execute_result"
    }
   ],
   "source": [
    "merged_data_train.isna().sum()"
   ]
  },
  {
   "cell_type": "code",
   "execution_count": 28,
   "id": "0685dcdb",
   "metadata": {},
   "outputs": [],
   "source": [
    "X = merged_data_train.drop(columns=[\"V1\", \"V2\",'Target'])\n",
    "y = merged_data_train['Target']"
   ]
  },
  {
   "cell_type": "code",
   "execution_count": 29,
   "id": "8d4a3333",
   "metadata": {},
   "outputs": [
    {
     "data": {
      "text/plain": [
       "V4     0\n",
       "V6     0\n",
       "V7     0\n",
       "V8     0\n",
       "V9     0\n",
       "V10    0\n",
       "V12    0\n",
       "V14    0\n",
       "V15    0\n",
       "V18    0\n",
       "V19    0\n",
       "V20    0\n",
       "V21    0\n",
       "dtype: int64"
      ]
     },
     "execution_count": 29,
     "metadata": {},
     "output_type": "execute_result"
    }
   ],
   "source": [
    "X.isna().sum()"
   ]
  },
  {
   "cell_type": "code",
   "execution_count": 30,
   "id": "042f04b1",
   "metadata": {},
   "outputs": [],
   "source": [
    "cat_columns = X.select_dtypes(include=['object']).columns\n"
   ]
  },
  {
   "cell_type": "code",
   "execution_count": 31,
   "id": "48d37a65",
   "metadata": {},
   "outputs": [
    {
     "data": {
      "text/plain": [
       "Index(['V7', 'V8', 'V9', 'V10', 'V12', 'V14', 'V15'], dtype='object')"
      ]
     },
     "execution_count": 31,
     "metadata": {},
     "output_type": "execute_result"
    }
   ],
   "source": [
    "cat_columns"
   ]
  },
  {
   "cell_type": "code",
   "execution_count": 32,
   "id": "602d2a76",
   "metadata": {},
   "outputs": [],
   "source": [
    "# cat_columns = ['V7', 'V8', 'V9', 'V10', 'V12', 'time_of_day', 'V14', 'V15',\n",
    "#        'country_mapping', 'asn_mapping']"
   ]
  },
  {
   "cell_type": "code",
   "execution_count": 33,
   "id": "f69173d6",
   "metadata": {},
   "outputs": [],
   "source": [
    "cat_features_idx = [X.columns.get_loc(col) for col in cat_columns]"
   ]
  },
  {
   "cell_type": "code",
   "execution_count": 34,
   "id": "942d8bd0",
   "metadata": {},
   "outputs": [
    {
     "data": {
      "text/plain": [
       "[2, 3, 4, 5, 6, 7, 8]"
      ]
     },
     "execution_count": 34,
     "metadata": {},
     "output_type": "execute_result"
    }
   ],
   "source": [
    "cat_features_idx"
   ]
  },
  {
   "cell_type": "code",
   "execution_count": 35,
   "id": "7c5e278a",
   "metadata": {},
   "outputs": [
    {
     "data": {
      "text/plain": [
       "Index(['V4', 'V6', 'V7', 'V8', 'V9', 'V10', 'V12', 'V14', 'V15', 'V18', 'V19',\n",
       "       'V20', 'V21'],\n",
       "      dtype='object')"
      ]
     },
     "execution_count": 35,
     "metadata": {},
     "output_type": "execute_result"
    }
   ],
   "source": [
    "X.columns"
   ]
  },
  {
   "cell_type": "code",
   "execution_count": 36,
   "id": "04f1fd03",
   "metadata": {},
   "outputs": [
    {
     "data": {
      "text/plain": [
       "[2, 3, 4, 5, 6, 7, 8]"
      ]
     },
     "execution_count": 36,
     "metadata": {},
     "output_type": "execute_result"
    }
   ],
   "source": [
    "cat_features_idx"
   ]
  },
  {
   "cell_type": "code",
   "execution_count": 37,
   "id": "aa473887",
   "metadata": {},
   "outputs": [
    {
     "name": "stdout",
     "output_type": "stream",
     "text": [
      "0:\tlearn: 0.4701029\ttest: 0.4699504\tbest: 0.4699504 (0)\ttotal: 279ms\tremaining: 4m 38s\n",
      "100:\tlearn: 0.0066474\ttest: 0.0040839\tbest: 0.0040839 (100)\ttotal: 51s\tremaining: 7m 34s\n",
      "200:\tlearn: 0.0059833\ttest: 0.0039524\tbest: 0.0039459 (152)\ttotal: 1m 56s\tremaining: 7m 42s\n",
      "Stopped by overfitting detector  (50 iterations wait)\n",
      "\n",
      "bestTest = 0.003945923994\n",
      "bestIteration = 152\n",
      "\n",
      "Shrink model to first 153 iterations.\n"
     ]
    },
    {
     "data": {
      "text/plain": [
       "<catboost.core.CatBoostClassifier at 0x2b100b4d430>"
      ]
     },
     "execution_count": 37,
     "metadata": {},
     "output_type": "execute_result"
    }
   ],
   "source": [
    "from catboost import CatBoostClassifier\n",
    "from sklearn.model_selection import train_test_split\n",
    "\n",
    "\n",
    "# Split data into training and testing sets\n",
    "X_train, X_test, y_train, y_test = train_test_split(X, \n",
    "                                                    y, \n",
    "                                                    test_size=0.2, \n",
    "                                                    random_state=42,\n",
    "                                                   )\n",
    "\n",
    "# Define model and its hyperparameters\n",
    "model = CatBoostClassifier(iterations=1000, \n",
    "                           learning_rate=0.1, \n",
    "                           depth=6, \n",
    "                           l2_leaf_reg=3, \n",
    "                           loss_function='Logloss', \n",
    "                           random_seed=42,\n",
    "                          cat_features=cat_features_idx,\n",
    "                          )\n",
    "\n",
    "# Train model on training data\n",
    "model.fit(X_train, y_train, \n",
    "          eval_set=(X_test, y_test), \n",
    "          verbose=100, \n",
    "          early_stopping_rounds=50)\n",
    "\n"
   ]
  },
  {
   "cell_type": "code",
   "execution_count": 38,
   "id": "6a3c7630",
   "metadata": {},
   "outputs": [],
   "source": [
    "y_pred = model.predict(X_test)"
   ]
  },
  {
   "cell_type": "code",
   "execution_count": 39,
   "id": "3cf513a3",
   "metadata": {},
   "outputs": [],
   "source": [
    "from sklearn.metrics import classification_report, precision_recall_curve, auc"
   ]
  },
  {
   "cell_type": "code",
   "execution_count": 40,
   "id": "420f6c6b",
   "metadata": {},
   "outputs": [
    {
     "name": "stdout",
     "output_type": "stream",
     "text": [
      "              precision    recall  f1-score   support\n",
      "\n",
      "           0       1.00      1.00      1.00     46480\n",
      "           1       0.91      0.87      0.89       247\n",
      "\n",
      "    accuracy                           1.00     46727\n",
      "   macro avg       0.95      0.94      0.95     46727\n",
      "weighted avg       1.00      1.00      1.00     46727\n",
      "\n"
     ]
    }
   ],
   "source": [
    "print(classification_report(y_test, y_pred))"
   ]
  },
  {
   "cell_type": "code",
   "execution_count": 41,
   "id": "aa91c3fa",
   "metadata": {},
   "outputs": [
    {
     "data": {
      "text/plain": [
       "dtype('O')"
      ]
     },
     "execution_count": 41,
     "metadata": {},
     "output_type": "execute_result"
    }
   ],
   "source": [
    "merged_data_test[\"V9\"].dtype"
   ]
  },
  {
   "cell_type": "code",
   "execution_count": 42,
   "id": "141a9bc2",
   "metadata": {},
   "outputs": [
    {
     "data": {
      "text/html": [
       "<div>\n",
       "<style scoped>\n",
       "    .dataframe tbody tr th:only-of-type {\n",
       "        vertical-align: middle;\n",
       "    }\n",
       "\n",
       "    .dataframe tbody tr th {\n",
       "        vertical-align: top;\n",
       "    }\n",
       "\n",
       "    .dataframe thead th {\n",
       "        text-align: right;\n",
       "    }\n",
       "</style>\n",
       "<table border=\"1\" class=\"dataframe\">\n",
       "  <thead>\n",
       "    <tr style=\"text-align: right;\">\n",
       "      <th></th>\n",
       "      <th>V1</th>\n",
       "      <th>V2</th>\n",
       "      <th>V4</th>\n",
       "      <th>V6</th>\n",
       "      <th>V7</th>\n",
       "      <th>V8</th>\n",
       "      <th>V9</th>\n",
       "      <th>V10</th>\n",
       "      <th>V12</th>\n",
       "      <th>V14</th>\n",
       "      <th>V15</th>\n",
       "      <th>V18</th>\n",
       "      <th>V19</th>\n",
       "      <th>V20</th>\n",
       "      <th>V21</th>\n",
       "    </tr>\n",
       "  </thead>\n",
       "  <tbody>\n",
       "    <tr>\n",
       "      <th>0</th>\n",
       "      <td>CUID6660</td>\n",
       "      <td>TID198043</td>\n",
       "      <td>4,154.1250</td>\n",
       "      <td>33227</td>\n",
       "      <td>A</td>\n",
       "      <td>BA4811</td>\n",
       "      <td>BB68389</td>\n",
       "      <td>PD39402</td>\n",
       "      <td>CP0</td>\n",
       "      <td>B170291</td>\n",
       "      <td>A</td>\n",
       "      <td>875.0000</td>\n",
       "      <td>33,514.0000</td>\n",
       "      <td>875.0000</td>\n",
       "      <td>105.9388</td>\n",
       "    </tr>\n",
       "    <tr>\n",
       "      <th>1</th>\n",
       "      <td>CUID6660</td>\n",
       "      <td>TID312736</td>\n",
       "      <td>8,350.0000</td>\n",
       "      <td>33227</td>\n",
       "      <td>A</td>\n",
       "      <td>BA4811</td>\n",
       "      <td>BB68389</td>\n",
       "      <td>PD39402</td>\n",
       "      <td>CP0</td>\n",
       "      <td>B170291</td>\n",
       "      <td>A</td>\n",
       "      <td>875.0000</td>\n",
       "      <td>33,514.0000</td>\n",
       "      <td>875.0000</td>\n",
       "      <td>105.9388</td>\n",
       "    </tr>\n",
       "    <tr>\n",
       "      <th>2</th>\n",
       "      <td>CUID6660</td>\n",
       "      <td>TID308818</td>\n",
       "      <td>20.8750</td>\n",
       "      <td>363981</td>\n",
       "      <td>A</td>\n",
       "      <td>BA4811</td>\n",
       "      <td>BB68389</td>\n",
       "      <td>PD39402</td>\n",
       "      <td>CP0</td>\n",
       "      <td>B170291</td>\n",
       "      <td>A</td>\n",
       "      <td>875.0000</td>\n",
       "      <td>33,514.0000</td>\n",
       "      <td>875.0000</td>\n",
       "      <td>105.9388</td>\n",
       "    </tr>\n",
       "    <tr>\n",
       "      <th>3</th>\n",
       "      <td>CUID6660</td>\n",
       "      <td>TID321252</td>\n",
       "      <td>20,457.5000</td>\n",
       "      <td>33227</td>\n",
       "      <td>A</td>\n",
       "      <td>BA4811</td>\n",
       "      <td>BB68389</td>\n",
       "      <td>PD39402</td>\n",
       "      <td>CP0</td>\n",
       "      <td>B170291</td>\n",
       "      <td>A</td>\n",
       "      <td>875.0000</td>\n",
       "      <td>33,514.0000</td>\n",
       "      <td>875.0000</td>\n",
       "      <td>105.9388</td>\n",
       "    </tr>\n",
       "    <tr>\n",
       "      <th>4</th>\n",
       "      <td>CUID6660</td>\n",
       "      <td>TID420788</td>\n",
       "      <td>4,154.1250</td>\n",
       "      <td>33227</td>\n",
       "      <td>A</td>\n",
       "      <td>BA4811</td>\n",
       "      <td>BB68389</td>\n",
       "      <td>PD39402</td>\n",
       "      <td>CP0</td>\n",
       "      <td>B170291</td>\n",
       "      <td>A</td>\n",
       "      <td>875.0000</td>\n",
       "      <td>33,514.0000</td>\n",
       "      <td>875.0000</td>\n",
       "      <td>105.9388</td>\n",
       "    </tr>\n",
       "  </tbody>\n",
       "</table>\n",
       "</div>"
      ],
      "text/plain": [
       "         V1         V2          V4      V6 V7      V8       V9      V10  V12  \\\n",
       "0  CUID6660  TID198043  4,154.1250   33227  A  BA4811  BB68389  PD39402  CP0   \n",
       "1  CUID6660  TID312736  8,350.0000   33227  A  BA4811  BB68389  PD39402  CP0   \n",
       "2  CUID6660  TID308818     20.8750  363981  A  BA4811  BB68389  PD39402  CP0   \n",
       "3  CUID6660  TID321252 20,457.5000   33227  A  BA4811  BB68389  PD39402  CP0   \n",
       "4  CUID6660  TID420788  4,154.1250   33227  A  BA4811  BB68389  PD39402  CP0   \n",
       "\n",
       "       V14 V15      V18         V19      V20      V21  \n",
       "0  B170291   A 875.0000 33,514.0000 875.0000 105.9388  \n",
       "1  B170291   A 875.0000 33,514.0000 875.0000 105.9388  \n",
       "2  B170291   A 875.0000 33,514.0000 875.0000 105.9388  \n",
       "3  B170291   A 875.0000 33,514.0000 875.0000 105.9388  \n",
       "4  B170291   A 875.0000 33,514.0000 875.0000 105.9388  "
      ]
     },
     "execution_count": 42,
     "metadata": {},
     "output_type": "execute_result"
    }
   ],
   "source": [
    "merged_data_test.head()"
   ]
  },
  {
   "cell_type": "code",
   "execution_count": 43,
   "id": "0c89ca17",
   "metadata": {},
   "outputs": [
    {
     "data": {
      "text/html": [
       "<div>\n",
       "<style scoped>\n",
       "    .dataframe tbody tr th:only-of-type {\n",
       "        vertical-align: middle;\n",
       "    }\n",
       "\n",
       "    .dataframe tbody tr th {\n",
       "        vertical-align: top;\n",
       "    }\n",
       "\n",
       "    .dataframe thead th {\n",
       "        text-align: right;\n",
       "    }\n",
       "</style>\n",
       "<table border=\"1\" class=\"dataframe\">\n",
       "  <thead>\n",
       "    <tr style=\"text-align: right;\">\n",
       "      <th></th>\n",
       "      <th>V1</th>\n",
       "      <th>V2</th>\n",
       "      <th>V4</th>\n",
       "      <th>V6</th>\n",
       "      <th>V7</th>\n",
       "      <th>V8</th>\n",
       "      <th>V9</th>\n",
       "      <th>V10</th>\n",
       "      <th>V12</th>\n",
       "      <th>Target</th>\n",
       "      <th>V14</th>\n",
       "      <th>V15</th>\n",
       "      <th>V18</th>\n",
       "      <th>V19</th>\n",
       "      <th>V20</th>\n",
       "      <th>V21</th>\n",
       "    </tr>\n",
       "  </thead>\n",
       "  <tbody>\n",
       "    <tr>\n",
       "      <th>0</th>\n",
       "      <td>CUID1872</td>\n",
       "      <td>TID229526</td>\n",
       "      <td>485.6945</td>\n",
       "      <td>376474</td>\n",
       "      <td>A</td>\n",
       "      <td>BA1</td>\n",
       "      <td>BB425559</td>\n",
       "      <td>PD44707</td>\n",
       "      <td>CP0</td>\n",
       "      <td>0</td>\n",
       "      <td>B170291</td>\n",
       "      <td>A</td>\n",
       "      <td>875.0000</td>\n",
       "      <td>825,535.0000</td>\n",
       "      <td>875.0000</td>\n",
       "      <td>93.2657</td>\n",
       "    </tr>\n",
       "    <tr>\n",
       "      <th>1</th>\n",
       "      <td>CUID5533</td>\n",
       "      <td>TID244499</td>\n",
       "      <td>393.4520</td>\n",
       "      <td>33227</td>\n",
       "      <td>A</td>\n",
       "      <td>BA4793</td>\n",
       "      <td>BB248012</td>\n",
       "      <td>PD39453</td>\n",
       "      <td>CP0</td>\n",
       "      <td>0</td>\n",
       "      <td>B170291</td>\n",
       "      <td>B</td>\n",
       "      <td>205.0000</td>\n",
       "      <td>468,070.0000</td>\n",
       "      <td>205.0000</td>\n",
       "      <td>119.2087</td>\n",
       "    </tr>\n",
       "    <tr>\n",
       "      <th>2</th>\n",
       "      <td>CUID5278</td>\n",
       "      <td>TID311877</td>\n",
       "      <td>375.7500</td>\n",
       "      <td>0</td>\n",
       "      <td>F</td>\n",
       "      <td>BA5631</td>\n",
       "      <td>BB166256</td>\n",
       "      <td>PD237664</td>\n",
       "      <td>CP0</td>\n",
       "      <td>0</td>\n",
       "      <td>B170291</td>\n",
       "      <td>A</td>\n",
       "      <td>875.0000</td>\n",
       "      <td>33,514.0000</td>\n",
       "      <td>875.0000</td>\n",
       "      <td>90.3696</td>\n",
       "    </tr>\n",
       "    <tr>\n",
       "      <th>3</th>\n",
       "      <td>CUID24</td>\n",
       "      <td>TID279685</td>\n",
       "      <td>6.9722</td>\n",
       "      <td>0</td>\n",
       "      <td>C</td>\n",
       "      <td>BA7188</td>\n",
       "      <td>BB354924</td>\n",
       "      <td>PD99032</td>\n",
       "      <td>CP0</td>\n",
       "      <td>0</td>\n",
       "      <td>B4995</td>\n",
       "      <td>B</td>\n",
       "      <td>875.0000</td>\n",
       "      <td>1,777,813.0000</td>\n",
       "      <td>875.0000</td>\n",
       "      <td>105.7284</td>\n",
       "    </tr>\n",
       "    <tr>\n",
       "      <th>4</th>\n",
       "      <td>CUID449</td>\n",
       "      <td>TID104689</td>\n",
       "      <td>16.7000</td>\n",
       "      <td>0</td>\n",
       "      <td>C</td>\n",
       "      <td>BA7236</td>\n",
       "      <td>BB354924</td>\n",
       "      <td>PD63422</td>\n",
       "      <td>CP0</td>\n",
       "      <td>0</td>\n",
       "      <td>B170291</td>\n",
       "      <td>A</td>\n",
       "      <td>875.0000</td>\n",
       "      <td>33,514.0000</td>\n",
       "      <td>875.0000</td>\n",
       "      <td>87.1306</td>\n",
       "    </tr>\n",
       "  </tbody>\n",
       "</table>\n",
       "</div>"
      ],
      "text/plain": [
       "         V1         V2       V4      V6 V7      V8        V9       V10  V12  \\\n",
       "0  CUID1872  TID229526 485.6945  376474  A     BA1  BB425559   PD44707  CP0   \n",
       "1  CUID5533  TID244499 393.4520   33227  A  BA4793  BB248012   PD39453  CP0   \n",
       "2  CUID5278  TID311877 375.7500       0  F  BA5631  BB166256  PD237664  CP0   \n",
       "3    CUID24  TID279685   6.9722       0  C  BA7188  BB354924   PD99032  CP0   \n",
       "4   CUID449  TID104689  16.7000       0  C  BA7236  BB354924   PD63422  CP0   \n",
       "\n",
       "   Target      V14 V15      V18            V19      V20      V21  \n",
       "0       0  B170291   A 875.0000   825,535.0000 875.0000  93.2657  \n",
       "1       0  B170291   B 205.0000   468,070.0000 205.0000 119.2087  \n",
       "2       0  B170291   A 875.0000    33,514.0000 875.0000  90.3696  \n",
       "3       0    B4995   B 875.0000 1,777,813.0000 875.0000 105.7284  \n",
       "4       0  B170291   A 875.0000    33,514.0000 875.0000  87.1306  "
      ]
     },
     "execution_count": 43,
     "metadata": {},
     "output_type": "execute_result"
    }
   ],
   "source": [
    "merged_data_train.head()"
   ]
  },
  {
   "cell_type": "code",
   "execution_count": 143,
   "id": "0440ee43",
   "metadata": {},
   "outputs": [],
   "source": [
    "Target = model.predict(merged_data_test.drop(columns=[\"V1\",\"V2\"], axis=1))\n",
    "Probability = model.predict_proba(merged_data_test.drop(columns=[\"V1\",\"V2\"], axis=1))"
   ]
  },
  {
   "cell_type": "code",
   "execution_count": 144,
   "id": "97079012",
   "metadata": {},
   "outputs": [],
   "source": [
    "Probability = [max(i) for i in Probability]"
   ]
  },
  {
   "cell_type": "code",
   "execution_count": 145,
   "id": "ef3a49ac",
   "metadata": {},
   "outputs": [],
   "source": [
    "output = pd.DataFrame({\"V2\":merged_data_test[\"V2\"], \"Probability\": Probability, \"Target\": Target})"
   ]
  },
  {
   "cell_type": "code",
   "execution_count": 146,
   "id": "0c24d614",
   "metadata": {},
   "outputs": [],
   "source": [
    "output.to_csv(\"results_hsbc_new.csv\", index=False)"
   ]
  },
  {
   "cell_type": "code",
   "execution_count": 57,
   "id": "70832bf3",
   "metadata": {},
   "outputs": [],
   "source": [
    "test_data = pd.read_csv(\"../dataset/test.csv\")\n",
    "test_data_helper = pd.read_csv(\"../dataset/test_helper.csv\")\n",
    "test_data_helper_grouped = test_data_helper.groupby([\"V1\"]).agg(list)\n",
    "test_data_helper_grouped = test_data_helper_grouped.reset_index()"
   ]
  },
  {
   "cell_type": "code",
   "execution_count": 58,
   "id": "ae97c4bf",
   "metadata": {},
   "outputs": [],
   "source": [
    "from scipy import stats as st"
   ]
  },
  {
   "cell_type": "code",
   "execution_count": null,
   "id": "39a1ce0b",
   "metadata": {},
   "outputs": [],
   "source": []
  },
  {
   "cell_type": "code",
   "execution_count": 59,
   "id": "80a23683",
   "metadata": {},
   "outputs": [
    {
     "data": {
      "text/plain": [
       "0.8197381454843017"
      ]
     },
     "execution_count": 59,
     "metadata": {},
     "output_type": "execute_result"
    }
   ],
   "source": [
    "test_data_helper[\"V21\"].isna().sum() / test_data_helper[\"V21\"].shape[0]"
   ]
  },
  {
   "cell_type": "code",
   "execution_count": null,
   "id": "db59675c",
   "metadata": {},
   "outputs": [],
   "source": []
  },
  {
   "cell_type": "code",
   "execution_count": 60,
   "id": "b4f9f172",
   "metadata": {},
   "outputs": [
    {
     "data": {
      "text/plain": [
       "count   209,275.0000\n",
       "mean        127.7739\n",
       "std         128.3160\n",
       "min           0.8300\n",
       "25%          42.3300\n",
       "50%          79.6800\n",
       "75%         167.6600\n",
       "max         830.0000\n",
       "Name: V21, dtype: float64"
      ]
     },
     "execution_count": 60,
     "metadata": {},
     "output_type": "execute_result"
    }
   ],
   "source": [
    "test_data_helper[\"V21\"].describe()"
   ]
  },
  {
   "cell_type": "code",
   "execution_count": 61,
   "id": "408366c9",
   "metadata": {},
   "outputs": [
    {
     "data": {
      "text/plain": [
       "3662"
      ]
     },
     "execution_count": 61,
     "metadata": {},
     "output_type": "execute_result"
    }
   ],
   "source": [
    "len(test_data_helper_grouped[\"V21\"])"
   ]
  },
  {
   "cell_type": "code",
   "execution_count": 62,
   "id": "7b038faa",
   "metadata": {},
   "outputs": [
    {
     "data": {
      "text/plain": [
       "3662"
      ]
     },
     "execution_count": 62,
     "metadata": {},
     "output_type": "execute_result"
    }
   ],
   "source": [
    "test_data_helper_grouped[\"V21\"].apply(lambda x: np.mean(x)).isna().sum()"
   ]
  },
  {
   "cell_type": "code",
   "execution_count": 63,
   "id": "f7b00109",
   "metadata": {},
   "outputs": [],
   "source": [
    "test_data_helper_grouped[\"V14\"] = test_data_helper_grouped[\"V14\"].apply(lambda x: st.mode(x)[0][0])\n",
    "test_data_helper_grouped[\"V15\"] = test_data_helper_grouped[\"V15\"].apply(lambda x: st.mode(x)[0][0])\n",
    "test_data_helper_grouped[\"V16\"] = test_data_helper_grouped[\"V16\"].apply(lambda x: st.mode(x)[0][0])\n",
    "test_data_helper_grouped[\"V17\"] = test_data_helper_grouped[\"V17\"].apply(lambda x: st.mode(x)[0][0])\n",
    "test_data_helper_grouped[\"V18\"] = test_data_helper_grouped[\"V18\"].apply(lambda x: st.mode(x)[0][0])\n",
    "test_data_helper_grouped[\"V19\"] = test_data_helper_grouped[\"V19\"].apply(lambda x: np.median(x))\n",
    "test_data_helper_grouped[\"V20\"] = test_data_helper_grouped[\"V18\"].apply(lambda x: np.mean(x))\n",
    "test_data_helper_grouped[\"V21\"] = test_data_helper_grouped[\"V21\"].apply(lambda x: np.mean(x))"
   ]
  },
  {
   "cell_type": "code",
   "execution_count": 64,
   "id": "7183d7d4",
   "metadata": {},
   "outputs": [],
   "source": [
    "test_data_helper_grouped.drop(columns=[\"V3\"], inplace=True)"
   ]
  },
  {
   "cell_type": "code",
   "execution_count": null,
   "id": "23e3a2d1",
   "metadata": {},
   "outputs": [],
   "source": []
  },
  {
   "cell_type": "code",
   "execution_count": 65,
   "id": "0814fbbd",
   "metadata": {},
   "outputs": [],
   "source": [
    "test_merge_data = test_data.merge(test_data_helper_grouped, on=\"V1\", how=\"left\")"
   ]
  },
  {
   "cell_type": "code",
   "execution_count": 67,
   "id": "dd742dc1",
   "metadata": {},
   "outputs": [
    {
     "data": {
      "text/html": [
       "<div>\n",
       "<style scoped>\n",
       "    .dataframe tbody tr th:only-of-type {\n",
       "        vertical-align: middle;\n",
       "    }\n",
       "\n",
       "    .dataframe tbody tr th {\n",
       "        vertical-align: top;\n",
       "    }\n",
       "\n",
       "    .dataframe thead th {\n",
       "        text-align: right;\n",
       "    }\n",
       "</style>\n",
       "<table border=\"1\" class=\"dataframe\">\n",
       "  <thead>\n",
       "    <tr style=\"text-align: right;\">\n",
       "      <th></th>\n",
       "      <th>V1</th>\n",
       "      <th>V2</th>\n",
       "      <th>V3</th>\n",
       "      <th>V4</th>\n",
       "      <th>V5</th>\n",
       "      <th>V6</th>\n",
       "      <th>V7</th>\n",
       "      <th>V8</th>\n",
       "      <th>V9</th>\n",
       "      <th>V10</th>\n",
       "      <th>V11</th>\n",
       "      <th>V12</th>\n",
       "      <th>V13</th>\n",
       "      <th>V14</th>\n",
       "      <th>V15</th>\n",
       "      <th>V16</th>\n",
       "      <th>V17</th>\n",
       "      <th>V18</th>\n",
       "      <th>V19</th>\n",
       "      <th>V20</th>\n",
       "      <th>V21</th>\n",
       "    </tr>\n",
       "  </thead>\n",
       "  <tbody>\n",
       "    <tr>\n",
       "      <th>0</th>\n",
       "      <td>CUID6660</td>\n",
       "      <td>TID198043</td>\n",
       "      <td>EID908838</td>\n",
       "      <td>4,154.1250</td>\n",
       "      <td>13-08-2020 08:41</td>\n",
       "      <td>33227</td>\n",
       "      <td>A</td>\n",
       "      <td>BA4811</td>\n",
       "      <td>BB68389</td>\n",
       "      <td>PD39402</td>\n",
       "      <td>CC1</td>\n",
       "      <td>CP0</td>\n",
       "      <td>11-08-2020 00:00</td>\n",
       "      <td>B170291</td>\n",
       "      <td>A</td>\n",
       "      <td>2018-01-16 20:38:30</td>\n",
       "      <td>121.167.155.58</td>\n",
       "      <td>875.0000</td>\n",
       "      <td>33,514.0000</td>\n",
       "      <td>875.0000</td>\n",
       "      <td>NaN</td>\n",
       "    </tr>\n",
       "    <tr>\n",
       "      <th>1</th>\n",
       "      <td>CUID6660</td>\n",
       "      <td>TID312736</td>\n",
       "      <td>EID502971</td>\n",
       "      <td>8,350.0000</td>\n",
       "      <td>17-08-2020 04:13</td>\n",
       "      <td>33227</td>\n",
       "      <td>A</td>\n",
       "      <td>BA4811</td>\n",
       "      <td>BB68389</td>\n",
       "      <td>PD39402</td>\n",
       "      <td>CC1</td>\n",
       "      <td>CP0</td>\n",
       "      <td>11-08-2020 00:00</td>\n",
       "      <td>B170291</td>\n",
       "      <td>A</td>\n",
       "      <td>2018-01-16 20:38:30</td>\n",
       "      <td>121.167.155.58</td>\n",
       "      <td>875.0000</td>\n",
       "      <td>33,514.0000</td>\n",
       "      <td>875.0000</td>\n",
       "      <td>NaN</td>\n",
       "    </tr>\n",
       "    <tr>\n",
       "      <th>2</th>\n",
       "      <td>CUID6660</td>\n",
       "      <td>TID308818</td>\n",
       "      <td>EID231193</td>\n",
       "      <td>20.8750</td>\n",
       "      <td>11-08-2020 01:40</td>\n",
       "      <td>363981</td>\n",
       "      <td>A</td>\n",
       "      <td>BA4811</td>\n",
       "      <td>BB68389</td>\n",
       "      <td>PD39402</td>\n",
       "      <td>CC1</td>\n",
       "      <td>CP0</td>\n",
       "      <td>11-08-2020 00:00</td>\n",
       "      <td>B170291</td>\n",
       "      <td>A</td>\n",
       "      <td>2018-01-16 20:38:30</td>\n",
       "      <td>121.167.155.58</td>\n",
       "      <td>875.0000</td>\n",
       "      <td>33,514.0000</td>\n",
       "      <td>875.0000</td>\n",
       "      <td>NaN</td>\n",
       "    </tr>\n",
       "    <tr>\n",
       "      <th>3</th>\n",
       "      <td>CUID6660</td>\n",
       "      <td>TID321252</td>\n",
       "      <td>EID1124129</td>\n",
       "      <td>20,457.5000</td>\n",
       "      <td>30-08-2020 22:11</td>\n",
       "      <td>33227</td>\n",
       "      <td>A</td>\n",
       "      <td>BA4811</td>\n",
       "      <td>BB68389</td>\n",
       "      <td>PD39402</td>\n",
       "      <td>CC1</td>\n",
       "      <td>CP0</td>\n",
       "      <td>11-08-2020 00:00</td>\n",
       "      <td>B170291</td>\n",
       "      <td>A</td>\n",
       "      <td>2018-01-16 20:38:30</td>\n",
       "      <td>121.167.155.58</td>\n",
       "      <td>875.0000</td>\n",
       "      <td>33,514.0000</td>\n",
       "      <td>875.0000</td>\n",
       "      <td>NaN</td>\n",
       "    </tr>\n",
       "    <tr>\n",
       "      <th>4</th>\n",
       "      <td>CUID6660</td>\n",
       "      <td>TID420788</td>\n",
       "      <td>EID908838</td>\n",
       "      <td>4,154.1250</td>\n",
       "      <td>13-08-2020 08:40</td>\n",
       "      <td>33227</td>\n",
       "      <td>A</td>\n",
       "      <td>BA4811</td>\n",
       "      <td>BB68389</td>\n",
       "      <td>PD39402</td>\n",
       "      <td>CC1</td>\n",
       "      <td>CP0</td>\n",
       "      <td>11-08-2020 00:00</td>\n",
       "      <td>B170291</td>\n",
       "      <td>A</td>\n",
       "      <td>2018-01-16 20:38:30</td>\n",
       "      <td>121.167.155.58</td>\n",
       "      <td>875.0000</td>\n",
       "      <td>33,514.0000</td>\n",
       "      <td>875.0000</td>\n",
       "      <td>NaN</td>\n",
       "    </tr>\n",
       "  </tbody>\n",
       "</table>\n",
       "</div>"
      ],
      "text/plain": [
       "         V1         V2          V3          V4                V5      V6 V7  \\\n",
       "0  CUID6660  TID198043   EID908838  4,154.1250  13-08-2020 08:41   33227  A   \n",
       "1  CUID6660  TID312736   EID502971  8,350.0000  17-08-2020 04:13   33227  A   \n",
       "2  CUID6660  TID308818   EID231193     20.8750  11-08-2020 01:40  363981  A   \n",
       "3  CUID6660  TID321252  EID1124129 20,457.5000  30-08-2020 22:11   33227  A   \n",
       "4  CUID6660  TID420788   EID908838  4,154.1250  13-08-2020 08:40   33227  A   \n",
       "\n",
       "       V8       V9      V10  V11  V12               V13      V14 V15  \\\n",
       "0  BA4811  BB68389  PD39402  CC1  CP0  11-08-2020 00:00  B170291   A   \n",
       "1  BA4811  BB68389  PD39402  CC1  CP0  11-08-2020 00:00  B170291   A   \n",
       "2  BA4811  BB68389  PD39402  CC1  CP0  11-08-2020 00:00  B170291   A   \n",
       "3  BA4811  BB68389  PD39402  CC1  CP0  11-08-2020 00:00  B170291   A   \n",
       "4  BA4811  BB68389  PD39402  CC1  CP0  11-08-2020 00:00  B170291   A   \n",
       "\n",
       "                   V16             V17      V18         V19      V20  V21  \n",
       "0  2018-01-16 20:38:30  121.167.155.58 875.0000 33,514.0000 875.0000  NaN  \n",
       "1  2018-01-16 20:38:30  121.167.155.58 875.0000 33,514.0000 875.0000  NaN  \n",
       "2  2018-01-16 20:38:30  121.167.155.58 875.0000 33,514.0000 875.0000  NaN  \n",
       "3  2018-01-16 20:38:30  121.167.155.58 875.0000 33,514.0000 875.0000  NaN  \n",
       "4  2018-01-16 20:38:30  121.167.155.58 875.0000 33,514.0000 875.0000  NaN  "
      ]
     },
     "execution_count": 67,
     "metadata": {},
     "output_type": "execute_result"
    }
   ],
   "source": [
    "test_merge_data.head()"
   ]
  },
  {
   "cell_type": "code",
   "execution_count": 68,
   "id": "8e2a7fe6",
   "metadata": {},
   "outputs": [],
   "source": [
    "test_merge_data = test_merge_data[['V2', 'V4', 'V6', 'V7', 'V8', 'V9', 'V10', 'V12', 'V14', 'V15', 'V18', 'V19',\n",
    "       'V20', 'V21']]"
   ]
  },
  {
   "cell_type": "code",
   "execution_count": 69,
   "id": "96726fc8",
   "metadata": {},
   "outputs": [],
   "source": [
    "test_merge_data[\"V14\"].fillna(V14_miss, inplace=True)\n",
    "test_merge_data[\"V15\"].fillna(V15_miss, inplace=True)\n",
    "test_merge_data[\"V18\"].fillna(V18_miss, inplace=True)\n",
    "test_merge_data[\"V19\"].fillna(V19_miss, inplace=True)\n",
    "test_merge_data[\"V20\"].fillna(V20_miss, inplace=True)\n",
    "test_merge_data[\"V21\"].fillna(V21_miss, inplace=True)"
   ]
  },
  {
   "cell_type": "code",
   "execution_count": 70,
   "id": "ef8ef5b2",
   "metadata": {},
   "outputs": [],
   "source": [
    "# test_merge_data[\"V21\"]"
   ]
  },
  {
   "cell_type": "code",
   "execution_count": 71,
   "id": "48122a3c",
   "metadata": {},
   "outputs": [],
   "source": [
    "Target = model.predict(test_merge_data.drop(columns=[\"V2\"], axis=1))\n",
    "Probability = model.predict_proba(test_merge_data.drop(columns=[\"V2\"], axis=1))"
   ]
  },
  {
   "cell_type": "code",
   "execution_count": 72,
   "id": "97db6322",
   "metadata": {},
   "outputs": [],
   "source": [
    "Probability = [max(i) for i in Probability]"
   ]
  },
  {
   "cell_type": "code",
   "execution_count": 73,
   "id": "873d19fe",
   "metadata": {},
   "outputs": [],
   "source": [
    "output = pd.DataFrame({\"V2\":test_merge_data[\"V2\"], \"Probability\": Probability, \"Target\": Target})"
   ]
  },
  {
   "cell_type": "code",
   "execution_count": 74,
   "id": "244f58d5",
   "metadata": {},
   "outputs": [
    {
     "data": {
      "text/html": [
       "<div>\n",
       "<style scoped>\n",
       "    .dataframe tbody tr th:only-of-type {\n",
       "        vertical-align: middle;\n",
       "    }\n",
       "\n",
       "    .dataframe tbody tr th {\n",
       "        vertical-align: top;\n",
       "    }\n",
       "\n",
       "    .dataframe thead th {\n",
       "        text-align: right;\n",
       "    }\n",
       "</style>\n",
       "<table border=\"1\" class=\"dataframe\">\n",
       "  <thead>\n",
       "    <tr style=\"text-align: right;\">\n",
       "      <th></th>\n",
       "      <th>V2</th>\n",
       "      <th>Probability</th>\n",
       "      <th>Target</th>\n",
       "    </tr>\n",
       "  </thead>\n",
       "  <tbody>\n",
       "    <tr>\n",
       "      <th>0</th>\n",
       "      <td>TID198043</td>\n",
       "      <td>0.9947</td>\n",
       "      <td>0</td>\n",
       "    </tr>\n",
       "    <tr>\n",
       "      <th>1</th>\n",
       "      <td>TID312736</td>\n",
       "      <td>0.9957</td>\n",
       "      <td>0</td>\n",
       "    </tr>\n",
       "    <tr>\n",
       "      <th>2</th>\n",
       "      <td>TID308818</td>\n",
       "      <td>0.9986</td>\n",
       "      <td>0</td>\n",
       "    </tr>\n",
       "    <tr>\n",
       "      <th>3</th>\n",
       "      <td>TID321252</td>\n",
       "      <td>0.9954</td>\n",
       "      <td>0</td>\n",
       "    </tr>\n",
       "    <tr>\n",
       "      <th>4</th>\n",
       "      <td>TID420788</td>\n",
       "      <td>0.9947</td>\n",
       "      <td>0</td>\n",
       "    </tr>\n",
       "  </tbody>\n",
       "</table>\n",
       "</div>"
      ],
      "text/plain": [
       "          V2  Probability  Target\n",
       "0  TID198043       0.9947       0\n",
       "1  TID312736       0.9957       0\n",
       "2  TID308818       0.9986       0\n",
       "3  TID321252       0.9954       0\n",
       "4  TID420788       0.9947       0"
      ]
     },
     "execution_count": 74,
     "metadata": {},
     "output_type": "execute_result"
    }
   ],
   "source": [
    "output.head()"
   ]
  },
  {
   "cell_type": "code",
   "execution_count": 75,
   "id": "cda133ad",
   "metadata": {},
   "outputs": [],
   "source": [
    "output.to_csv(\"results_hsbc_new1.csv\", index=False)"
   ]
  },
  {
   "cell_type": "code",
   "execution_count": 60,
   "id": "2e2c0a9e",
   "metadata": {},
   "outputs": [
    {
     "data": {
      "text/html": [
       "<div>\n",
       "<style scoped>\n",
       "    .dataframe tbody tr th:only-of-type {\n",
       "        vertical-align: middle;\n",
       "    }\n",
       "\n",
       "    .dataframe tbody tr th {\n",
       "        vertical-align: top;\n",
       "    }\n",
       "\n",
       "    .dataframe thead th {\n",
       "        text-align: right;\n",
       "    }\n",
       "</style>\n",
       "<table border=\"1\" class=\"dataframe\">\n",
       "  <thead>\n",
       "    <tr style=\"text-align: right;\">\n",
       "      <th></th>\n",
       "      <th>V2</th>\n",
       "      <th>V4</th>\n",
       "      <th>V6</th>\n",
       "      <th>V7</th>\n",
       "      <th>V8</th>\n",
       "      <th>V9</th>\n",
       "      <th>V10</th>\n",
       "      <th>V12</th>\n",
       "      <th>V14</th>\n",
       "      <th>V15</th>\n",
       "      <th>V18</th>\n",
       "      <th>V19</th>\n",
       "      <th>V20</th>\n",
       "      <th>V21</th>\n",
       "    </tr>\n",
       "  </thead>\n",
       "  <tbody>\n",
       "    <tr>\n",
       "      <th>0</th>\n",
       "      <td>TID198043</td>\n",
       "      <td>4,154.1250</td>\n",
       "      <td>33227</td>\n",
       "      <td>A</td>\n",
       "      <td>BA4811</td>\n",
       "      <td>BB68389</td>\n",
       "      <td>PD39402</td>\n",
       "      <td>CP0</td>\n",
       "      <td>B170291</td>\n",
       "      <td>A</td>\n",
       "      <td>875.0000</td>\n",
       "      <td>33,514.0000</td>\n",
       "      <td>875.0000</td>\n",
       "      <td>101.9416</td>\n",
       "    </tr>\n",
       "    <tr>\n",
       "      <th>1</th>\n",
       "      <td>TID312736</td>\n",
       "      <td>8,350.0000</td>\n",
       "      <td>33227</td>\n",
       "      <td>A</td>\n",
       "      <td>BA4811</td>\n",
       "      <td>BB68389</td>\n",
       "      <td>PD39402</td>\n",
       "      <td>CP0</td>\n",
       "      <td>B170291</td>\n",
       "      <td>A</td>\n",
       "      <td>875.0000</td>\n",
       "      <td>33,514.0000</td>\n",
       "      <td>875.0000</td>\n",
       "      <td>101.9416</td>\n",
       "    </tr>\n",
       "    <tr>\n",
       "      <th>2</th>\n",
       "      <td>TID308818</td>\n",
       "      <td>20.8750</td>\n",
       "      <td>363981</td>\n",
       "      <td>A</td>\n",
       "      <td>BA4811</td>\n",
       "      <td>BB68389</td>\n",
       "      <td>PD39402</td>\n",
       "      <td>CP0</td>\n",
       "      <td>B170291</td>\n",
       "      <td>A</td>\n",
       "      <td>875.0000</td>\n",
       "      <td>33,514.0000</td>\n",
       "      <td>875.0000</td>\n",
       "      <td>101.9416</td>\n",
       "    </tr>\n",
       "    <tr>\n",
       "      <th>3</th>\n",
       "      <td>TID321252</td>\n",
       "      <td>20,457.5000</td>\n",
       "      <td>33227</td>\n",
       "      <td>A</td>\n",
       "      <td>BA4811</td>\n",
       "      <td>BB68389</td>\n",
       "      <td>PD39402</td>\n",
       "      <td>CP0</td>\n",
       "      <td>B170291</td>\n",
       "      <td>A</td>\n",
       "      <td>875.0000</td>\n",
       "      <td>33,514.0000</td>\n",
       "      <td>875.0000</td>\n",
       "      <td>101.9416</td>\n",
       "    </tr>\n",
       "    <tr>\n",
       "      <th>4</th>\n",
       "      <td>TID420788</td>\n",
       "      <td>4,154.1250</td>\n",
       "      <td>33227</td>\n",
       "      <td>A</td>\n",
       "      <td>BA4811</td>\n",
       "      <td>BB68389</td>\n",
       "      <td>PD39402</td>\n",
       "      <td>CP0</td>\n",
       "      <td>B170291</td>\n",
       "      <td>A</td>\n",
       "      <td>875.0000</td>\n",
       "      <td>33,514.0000</td>\n",
       "      <td>875.0000</td>\n",
       "      <td>101.9416</td>\n",
       "    </tr>\n",
       "  </tbody>\n",
       "</table>\n",
       "</div>"
      ],
      "text/plain": [
       "          V2          V4      V6 V7      V8       V9      V10  V12      V14  \\\n",
       "0  TID198043  4,154.1250   33227  A  BA4811  BB68389  PD39402  CP0  B170291   \n",
       "1  TID312736  8,350.0000   33227  A  BA4811  BB68389  PD39402  CP0  B170291   \n",
       "2  TID308818     20.8750  363981  A  BA4811  BB68389  PD39402  CP0  B170291   \n",
       "3  TID321252 20,457.5000   33227  A  BA4811  BB68389  PD39402  CP0  B170291   \n",
       "4  TID420788  4,154.1250   33227  A  BA4811  BB68389  PD39402  CP0  B170291   \n",
       "\n",
       "  V15      V18         V19      V20      V21  \n",
       "0   A 875.0000 33,514.0000 875.0000 101.9416  \n",
       "1   A 875.0000 33,514.0000 875.0000 101.9416  \n",
       "2   A 875.0000 33,514.0000 875.0000 101.9416  \n",
       "3   A 875.0000 33,514.0000 875.0000 101.9416  \n",
       "4   A 875.0000 33,514.0000 875.0000 101.9416  "
      ]
     },
     "execution_count": 60,
     "metadata": {},
     "output_type": "execute_result"
    }
   ],
   "source": [
    "test_merge_data.head()"
   ]
  },
  {
   "cell_type": "code",
   "execution_count": 61,
   "id": "8f9cd6af",
   "metadata": {},
   "outputs": [
    {
     "data": {
      "text/html": [
       "<div>\n",
       "<style scoped>\n",
       "    .dataframe tbody tr th:only-of-type {\n",
       "        vertical-align: middle;\n",
       "    }\n",
       "\n",
       "    .dataframe tbody tr th {\n",
       "        vertical-align: top;\n",
       "    }\n",
       "\n",
       "    .dataframe thead th {\n",
       "        text-align: right;\n",
       "    }\n",
       "</style>\n",
       "<table border=\"1\" class=\"dataframe\">\n",
       "  <thead>\n",
       "    <tr style=\"text-align: right;\">\n",
       "      <th></th>\n",
       "      <th>V2</th>\n",
       "      <th>V4</th>\n",
       "      <th>V6</th>\n",
       "      <th>V7</th>\n",
       "      <th>V8</th>\n",
       "      <th>V9</th>\n",
       "      <th>V10</th>\n",
       "      <th>V12</th>\n",
       "      <th>V14</th>\n",
       "      <th>V15</th>\n",
       "      <th>V18</th>\n",
       "      <th>V19</th>\n",
       "      <th>V20</th>\n",
       "      <th>V21</th>\n",
       "    </tr>\n",
       "  </thead>\n",
       "  <tbody>\n",
       "    <tr>\n",
       "      <th>0</th>\n",
       "      <td>TID198043</td>\n",
       "      <td>4,154.1250</td>\n",
       "      <td>33227</td>\n",
       "      <td>A</td>\n",
       "      <td>BA4811</td>\n",
       "      <td>BB68389</td>\n",
       "      <td>PD39402</td>\n",
       "      <td>CP0</td>\n",
       "      <td>B170291</td>\n",
       "      <td>A</td>\n",
       "      <td>875.0000</td>\n",
       "      <td>33,514.0000</td>\n",
       "      <td>875.0000</td>\n",
       "      <td>105.9388</td>\n",
       "    </tr>\n",
       "    <tr>\n",
       "      <th>1</th>\n",
       "      <td>TID312736</td>\n",
       "      <td>8,350.0000</td>\n",
       "      <td>33227</td>\n",
       "      <td>A</td>\n",
       "      <td>BA4811</td>\n",
       "      <td>BB68389</td>\n",
       "      <td>PD39402</td>\n",
       "      <td>CP0</td>\n",
       "      <td>B170291</td>\n",
       "      <td>A</td>\n",
       "      <td>875.0000</td>\n",
       "      <td>33,514.0000</td>\n",
       "      <td>875.0000</td>\n",
       "      <td>105.9388</td>\n",
       "    </tr>\n",
       "    <tr>\n",
       "      <th>2</th>\n",
       "      <td>TID308818</td>\n",
       "      <td>20.8750</td>\n",
       "      <td>363981</td>\n",
       "      <td>A</td>\n",
       "      <td>BA4811</td>\n",
       "      <td>BB68389</td>\n",
       "      <td>PD39402</td>\n",
       "      <td>CP0</td>\n",
       "      <td>B170291</td>\n",
       "      <td>A</td>\n",
       "      <td>875.0000</td>\n",
       "      <td>33,514.0000</td>\n",
       "      <td>875.0000</td>\n",
       "      <td>105.9388</td>\n",
       "    </tr>\n",
       "    <tr>\n",
       "      <th>3</th>\n",
       "      <td>TID321252</td>\n",
       "      <td>20,457.5000</td>\n",
       "      <td>33227</td>\n",
       "      <td>A</td>\n",
       "      <td>BA4811</td>\n",
       "      <td>BB68389</td>\n",
       "      <td>PD39402</td>\n",
       "      <td>CP0</td>\n",
       "      <td>B170291</td>\n",
       "      <td>A</td>\n",
       "      <td>875.0000</td>\n",
       "      <td>33,514.0000</td>\n",
       "      <td>875.0000</td>\n",
       "      <td>105.9388</td>\n",
       "    </tr>\n",
       "    <tr>\n",
       "      <th>4</th>\n",
       "      <td>TID420788</td>\n",
       "      <td>4,154.1250</td>\n",
       "      <td>33227</td>\n",
       "      <td>A</td>\n",
       "      <td>BA4811</td>\n",
       "      <td>BB68389</td>\n",
       "      <td>PD39402</td>\n",
       "      <td>CP0</td>\n",
       "      <td>B170291</td>\n",
       "      <td>A</td>\n",
       "      <td>875.0000</td>\n",
       "      <td>33,514.0000</td>\n",
       "      <td>875.0000</td>\n",
       "      <td>105.9388</td>\n",
       "    </tr>\n",
       "  </tbody>\n",
       "</table>\n",
       "</div>"
      ],
      "text/plain": [
       "          V2          V4      V6 V7      V8       V9      V10  V12      V14  \\\n",
       "0  TID198043  4,154.1250   33227  A  BA4811  BB68389  PD39402  CP0  B170291   \n",
       "1  TID312736  8,350.0000   33227  A  BA4811  BB68389  PD39402  CP0  B170291   \n",
       "2  TID308818     20.8750  363981  A  BA4811  BB68389  PD39402  CP0  B170291   \n",
       "3  TID321252 20,457.5000   33227  A  BA4811  BB68389  PD39402  CP0  B170291   \n",
       "4  TID420788  4,154.1250   33227  A  BA4811  BB68389  PD39402  CP0  B170291   \n",
       "\n",
       "  V15      V18         V19      V20      V21  \n",
       "0   A 875.0000 33,514.0000 875.0000 105.9388  \n",
       "1   A 875.0000 33,514.0000 875.0000 105.9388  \n",
       "2   A 875.0000 33,514.0000 875.0000 105.9388  \n",
       "3   A 875.0000 33,514.0000 875.0000 105.9388  \n",
       "4   A 875.0000 33,514.0000 875.0000 105.9388  "
      ]
     },
     "execution_count": 61,
     "metadata": {},
     "output_type": "execute_result"
    }
   ],
   "source": [
    "merged_data_test.drop(columns=[\"V1\"]).head()"
   ]
  },
  {
   "cell_type": "code",
   "execution_count": 62,
   "id": "539eb854",
   "metadata": {},
   "outputs": [
    {
     "data": {
      "text/plain": [
       "V2     215852\n",
       "V4     215852\n",
       "V6     215852\n",
       "V7     215852\n",
       "V8     215852\n",
       "V9     215852\n",
       "V10    215852\n",
       "V12    215852\n",
       "V14    215852\n",
       "V15    215852\n",
       "V18    215852\n",
       "V19    215852\n",
       "V20    215852\n",
       "V21        73\n",
       "dtype: int64"
      ]
     },
     "execution_count": 62,
     "metadata": {},
     "output_type": "execute_result"
    }
   ],
   "source": [
    "(merged_data_test.drop(columns=[\"V1\"]) == test_merge_data).sum(axis=0)"
   ]
  },
  {
   "cell_type": "code",
   "execution_count": 63,
   "id": "76f45968",
   "metadata": {},
   "outputs": [
    {
     "data": {
      "text/plain": [
       "(215852, 15)"
      ]
     },
     "execution_count": 63,
     "metadata": {},
     "output_type": "execute_result"
    }
   ],
   "source": [
    "merged_data_test.shape"
   ]
  },
  {
   "cell_type": "code",
   "execution_count": 64,
   "id": "aa3bf1cb",
   "metadata": {},
   "outputs": [
    {
     "data": {
      "text/plain": [
       "0   105.9388\n",
       "1   105.9388\n",
       "2   105.9388\n",
       "3   105.9388\n",
       "4   105.9388\n",
       "Name: V21, dtype: float64"
      ]
     },
     "execution_count": 64,
     "metadata": {},
     "output_type": "execute_result"
    }
   ],
   "source": [
    "merged_data_test[\"V21\"].head()"
   ]
  },
  {
   "cell_type": "code",
   "execution_count": 65,
   "id": "57da267d",
   "metadata": {},
   "outputs": [],
   "source": [
    "v21_vals_test = test_merge_data[\"V21\"]"
   ]
  },
  {
   "cell_type": "code",
   "execution_count": 66,
   "id": "eedadb50",
   "metadata": {},
   "outputs": [],
   "source": [
    "v21_vals_test_new = merged_data_test[\"V21\"]"
   ]
  },
  {
   "cell_type": "code",
   "execution_count": 70,
   "id": "88b211ad",
   "metadata": {},
   "outputs": [],
   "source": [
    "from collections import Counter"
   ]
  },
  {
   "cell_type": "code",
   "execution_count": 71,
   "id": "baab27e4",
   "metadata": {},
   "outputs": [
    {
     "data": {
      "text/plain": [
       "Counter({101.94159655191008: 215852})"
      ]
     },
     "execution_count": 71,
     "metadata": {},
     "output_type": "execute_result"
    }
   ],
   "source": [
    "Counter(v21_vals_test)"
   ]
  },
  {
   "cell_type": "code",
   "execution_count": 68,
   "id": "12cf9c94",
   "metadata": {},
   "outputs": [
    {
     "data": {
      "text/plain": [
       "0        105.9388\n",
       "1        105.9388\n",
       "2        105.9388\n",
       "3        105.9388\n",
       "4        105.9388\n",
       "           ...   \n",
       "215847    89.1763\n",
       "215848    89.1763\n",
       "215849    89.1763\n",
       "215850    89.1763\n",
       "215851    89.1763\n",
       "Name: V21, Length: 215852, dtype: float64"
      ]
     },
     "execution_count": 68,
     "metadata": {},
     "output_type": "execute_result"
    }
   ],
   "source": [
    "v21_vals_test_new"
   ]
  },
  {
   "cell_type": "code",
   "execution_count": null,
   "id": "0cb9a14a",
   "metadata": {},
   "outputs": [],
   "source": []
  }
 ],
 "metadata": {
  "kernelspec": {
   "display_name": "Python 3 (ipykernel)",
   "language": "python",
   "name": "python3"
  },
  "language_info": {
   "codemirror_mode": {
    "name": "ipython",
    "version": 3
   },
   "file_extension": ".py",
   "mimetype": "text/x-python",
   "name": "python",
   "nbconvert_exporter": "python",
   "pygments_lexer": "ipython3",
   "version": "3.9.12"
  }
 },
 "nbformat": 4,
 "nbformat_minor": 5
}
