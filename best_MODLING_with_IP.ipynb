{
 "cells": [
  {
   "cell_type": "code",
   "execution_count": 1,
   "id": "f877da70",
   "metadata": {},
   "outputs": [],
   "source": [
    "import numpy as np\n",
    "import pandas as pd\n",
    "import xgboost as xgb\n",
    "from sklearn.model_selection import train_test_split\n",
    "from sklearn.metrics import accuracy_score\n",
    "from sklearn.model_selection import train_test_split\n",
    "from sklearn.linear_model import Lasso, Ridge"
   ]
  },
  {
   "cell_type": "code",
   "execution_count": 2,
   "id": "f9d83d02",
   "metadata": {},
   "outputs": [],
   "source": [
    "import pickle as pkl"
   ]
  },
  {
   "cell_type": "code",
   "execution_count": 3,
   "id": "6aafb3d1",
   "metadata": {},
   "outputs": [],
   "source": [
    "merged_data_train = pd.read_csv(\"simple_train_ip.csv\")\n",
    "merged_data_test = pd.read_csv(\"simple_test_ip.csv.\")"
   ]
  },
  {
   "cell_type": "code",
   "execution_count": 5,
   "id": "ee148e38",
   "metadata": {},
   "outputs": [
    {
     "data": {
      "text/html": [
       "<div>\n",
       "<style scoped>\n",
       "    .dataframe tbody tr th:only-of-type {\n",
       "        vertical-align: middle;\n",
       "    }\n",
       "\n",
       "    .dataframe tbody tr th {\n",
       "        vertical-align: top;\n",
       "    }\n",
       "\n",
       "    .dataframe thead th {\n",
       "        text-align: right;\n",
       "    }\n",
       "</style>\n",
       "<table border=\"1\" class=\"dataframe\">\n",
       "  <thead>\n",
       "    <tr style=\"text-align: right;\">\n",
       "      <th></th>\n",
       "      <th>V4</th>\n",
       "      <th>V6</th>\n",
       "      <th>Target</th>\n",
       "      <th>V18</th>\n",
       "      <th>V19</th>\n",
       "      <th>asn_mapping</th>\n",
       "      <th>V5_hour</th>\n",
       "      <th>V5_minute</th>\n",
       "      <th>V13_hour</th>\n",
       "      <th>V13_minute</th>\n",
       "      <th>...</th>\n",
       "      <th>V5_year</th>\n",
       "      <th>V13_day_of_week</th>\n",
       "      <th>V13_day_of_month</th>\n",
       "      <th>V13_month</th>\n",
       "      <th>V13_year</th>\n",
       "      <th>V16_day_of_week</th>\n",
       "      <th>V16_day_of_month</th>\n",
       "      <th>V16_month</th>\n",
       "      <th>V16_year</th>\n",
       "      <th>country_mapping_encoded</th>\n",
       "    </tr>\n",
       "  </thead>\n",
       "  <tbody>\n",
       "    <tr>\n",
       "      <th>0</th>\n",
       "      <td>485.69445</td>\n",
       "      <td>376474</td>\n",
       "      <td>0</td>\n",
       "      <td>24.492806</td>\n",
       "      <td>0.0</td>\n",
       "      <td>-1.0</td>\n",
       "      <td>22</td>\n",
       "      <td>51</td>\n",
       "      <td>0.0</td>\n",
       "      <td>0.0</td>\n",
       "      <td>...</td>\n",
       "      <td>2020</td>\n",
       "      <td>5.0</td>\n",
       "      <td>21.0</td>\n",
       "      <td>3.0</td>\n",
       "      <td>2020.0</td>\n",
       "      <td>2.0</td>\n",
       "      <td>15.0</td>\n",
       "      <td>1.0</td>\n",
       "      <td>2018.0</td>\n",
       "      <td>38</td>\n",
       "    </tr>\n",
       "  </tbody>\n",
       "</table>\n",
       "<p>1 rows × 25 columns</p>\n",
       "</div>"
      ],
      "text/plain": [
       "          V4      V6  Target        V18  V19  asn_mapping  V5_hour  V5_minute  \\\n",
       "0  485.69445  376474       0  24.492806  0.0         -1.0       22         51   \n",
       "\n",
       "   V13_hour  V13_minute  ...  V5_year  V13_day_of_week  V13_day_of_month  \\\n",
       "0       0.0         0.0  ...     2020              5.0              21.0   \n",
       "\n",
       "   V13_month  V13_year  V16_day_of_week  V16_day_of_month  V16_month  \\\n",
       "0        3.0    2020.0              2.0              15.0        1.0   \n",
       "\n",
       "   V16_year  country_mapping_encoded  \n",
       "0    2018.0                       38  \n",
       "\n",
       "[1 rows x 25 columns]"
      ]
     },
     "execution_count": 5,
     "metadata": {},
     "output_type": "execute_result"
    }
   ],
   "source": [
    "merged_data_train.head(1)"
   ]
  },
  {
   "cell_type": "code",
   "execution_count": 6,
   "id": "2ef857ea",
   "metadata": {},
   "outputs": [],
   "source": [
    "d = dict(merged_data_train.iloc[0])"
   ]
  },
  {
   "cell_type": "code",
   "execution_count": 7,
   "id": "b0c23abd",
   "metadata": {},
   "outputs": [
    {
     "data": {
      "text/plain": [
       "{'V4': 485.69445,\n",
       " 'V6': 376474.0,\n",
       " 'Target': 0.0,\n",
       " 'V18': 24.49280553477018,\n",
       " 'V19': 0.0,\n",
       " 'asn_mapping': -1.0,\n",
       " 'V5_hour': 22.0,\n",
       " 'V5_minute': 51.0,\n",
       " 'V13_hour': 0.0,\n",
       " 'V13_minute': 0.0,\n",
       " 'V16_hour': 9.439085037839128,\n",
       " 'V16_minute': 4.0,\n",
       " 'V5_day_of_week': 4.0,\n",
       " 'V5_day_of_month': 20.0,\n",
       " 'V5_month': 3.0,\n",
       " 'V5_year': 2020.0,\n",
       " 'V13_day_of_week': 5.0,\n",
       " 'V13_day_of_month': 21.0,\n",
       " 'V13_month': 3.0,\n",
       " 'V13_year': 2020.0,\n",
       " 'V16_day_of_week': 2.0,\n",
       " 'V16_day_of_month': 15.0,\n",
       " 'V16_month': 1.0,\n",
       " 'V16_year': 2018.0,\n",
       " 'country_mapping_encoded': 38.0}"
      ]
     },
     "execution_count": 7,
     "metadata": {},
     "output_type": "execute_result"
    }
   ],
   "source": [
    "d"
   ]
  },
  {
   "cell_type": "code",
   "execution_count": 3,
   "id": "03cffe6f",
   "metadata": {},
   "outputs": [
    {
     "data": {
      "text/plain": [
       "Index(['V4', 'V6', 'Target', 'V18', 'V19', 'asn_mapping', 'V5_hour',\n",
       "       'V5_minute', 'V13_hour', 'V13_minute', 'V16_hour', 'V16_minute',\n",
       "       'V5_day_of_week', 'V5_day_of_month', 'V5_month', 'V5_year',\n",
       "       'V13_day_of_week', 'V13_day_of_month', 'V13_month', 'V13_year',\n",
       "       'V16_day_of_week', 'V16_day_of_month', 'V16_month', 'V16_year',\n",
       "       'country_mapping_encoded'],\n",
       "      dtype='object')"
      ]
     },
     "execution_count": 3,
     "metadata": {},
     "output_type": "execute_result"
    }
   ],
   "source": [
    "merged_data_train.columns"
   ]
  },
  {
   "cell_type": "code",
   "execution_count": 5,
   "id": "153c43bf",
   "metadata": {},
   "outputs": [
    {
     "data": {
      "text/plain": [
       "((721081, 25), (658493, 24))"
      ]
     },
     "execution_count": 5,
     "metadata": {},
     "output_type": "execute_result"
    }
   ],
   "source": [
    "merged_data_train.shape,merged_data_test.shape"
   ]
  },
  {
   "cell_type": "code",
   "execution_count": 6,
   "id": "e04752d1",
   "metadata": {},
   "outputs": [],
   "source": [
    "X = merged_data_train.drop(columns=['Target'])\n",
    "y = merged_data_train['Target']"
   ]
  },
  {
   "cell_type": "code",
   "execution_count": 7,
   "id": "c250f07b",
   "metadata": {},
   "outputs": [],
   "source": [
    "cat_columns = X.select_dtypes(include=['object']).columns\n",
    "cat_features_idx = [X.columns.get_loc(col) for col in cat_columns]"
   ]
  },
  {
   "cell_type": "code",
   "execution_count": 8,
   "id": "ea45c7ab",
   "metadata": {},
   "outputs": [
    {
     "data": {
      "text/plain": [
       "[]"
      ]
     },
     "execution_count": 8,
     "metadata": {},
     "output_type": "execute_result"
    }
   ],
   "source": [
    "cat_features_idx"
   ]
  },
  {
   "cell_type": "code",
   "execution_count": 9,
   "id": "24698386",
   "metadata": {},
   "outputs": [],
   "source": [
    "from catboost import CatBoostClassifier\n",
    "from sklearn.model_selection import train_test_split\n",
    "\n",
    "\n",
    "# Split data into training and testing sets\n",
    "X_train, X_test, y_train, y_test = train_test_split(X, \n",
    "                                                    y, \n",
    "                                                    test_size=0.2, \n",
    "                                                    random_state=42,\n",
    "                                                   )\n"
   ]
  },
  {
   "cell_type": "code",
   "execution_count": 10,
   "id": "b4b0d300",
   "metadata": {},
   "outputs": [
    {
     "data": {
      "text/plain": [
       "(144217, 24)"
      ]
     },
     "execution_count": 10,
     "metadata": {},
     "output_type": "execute_result"
    }
   ],
   "source": [
    "X_test.shape"
   ]
  },
  {
   "cell_type": "code",
   "execution_count": 13,
   "id": "d24d84cb",
   "metadata": {},
   "outputs": [],
   "source": [
    "request_sample  = dict(X_test.iloc[0])"
   ]
  },
  {
   "cell_type": "code",
   "execution_count": 14,
   "id": "0ca823c5",
   "metadata": {},
   "outputs": [
    {
     "data": {
      "text/plain": [
       "{'V4': 480.125,\n",
       " 'V6': 0.0,\n",
       " 'V18': 0.0,\n",
       " 'V19': 0.0,\n",
       " 'asn_mapping': -1.0,\n",
       " 'V5_hour': 21.0,\n",
       " 'V5_minute': 11.0,\n",
       " 'V13_hour': 0.0,\n",
       " 'V13_minute': 0.0,\n",
       " 'V16_hour': 3.0,\n",
       " 'V16_minute': 47.0,\n",
       " 'V5_day_of_week': 1.0,\n",
       " 'V5_day_of_month': 16.0,\n",
       " 'V5_month': 6.0,\n",
       " 'V5_year': 2020.0,\n",
       " 'V13_day_of_week': 6.0,\n",
       " 'V13_day_of_month': 7.0,\n",
       " 'V13_month': 7.0,\n",
       " 'V13_year': 2020.0,\n",
       " 'V16_day_of_week': 6.0,\n",
       " 'V16_day_of_month': 15.0,\n",
       " 'V16_month': 4.0,\n",
       " 'V16_year': 2018.0,\n",
       " 'country_mapping_encoded': 38.0}"
      ]
     },
     "execution_count": 14,
     "metadata": {},
     "output_type": "execute_result"
    }
   ],
   "source": [
    "request_sample"
   ]
  },
  {
   "cell_type": "code",
   "execution_count": 28,
   "id": "909aa52b",
   "metadata": {},
   "outputs": [],
   "source": [
    "test_sample = pd.DataFrame([request_sample], columns=list(request_sample.keys()))"
   ]
  },
  {
   "cell_type": "code",
   "execution_count": 26,
   "id": "b981b028",
   "metadata": {},
   "outputs": [],
   "source": [
    "def load_model(model_path):\n",
    "    with open(model_path, 'rb') as model_file:\n",
    "        model = pkl.load(model_file)\n",
    "    return model"
   ]
  },
  {
   "cell_type": "code",
   "execution_count": 27,
   "id": "19c73a1e",
   "metadata": {},
   "outputs": [],
   "source": [
    "model = load_model('best_model.pkl')"
   ]
  },
  {
   "cell_type": "code",
   "execution_count": 42,
   "id": "49247d58",
   "metadata": {},
   "outputs": [
    {
     "data": {
      "text/plain": [
       "array([[9.99996225e-01, 3.77529402e-06]])"
      ]
     },
     "execution_count": 42,
     "metadata": {},
     "output_type": "execute_result"
    }
   ],
   "source": [
    "model.predict_proba(test_sample)"
   ]
  },
  {
   "cell_type": "code",
   "execution_count": 49,
   "id": "5cacc18e",
   "metadata": {},
   "outputs": [],
   "source": [
    "confidence_scores = model.predict_proba(X_test.head())"
   ]
  },
  {
   "cell_type": "code",
   "execution_count": 50,
   "id": "357de5dd",
   "metadata": {},
   "outputs": [
    {
     "data": {
      "text/plain": [
       "array([[9.99996225e-01, 3.77529402e-06],\n",
       "       [9.99990347e-01, 9.65307747e-06],\n",
       "       [9.99925568e-01, 7.44321727e-05],\n",
       "       [9.99995020e-01, 4.97980447e-06],\n",
       "       [9.99733226e-01, 2.66774488e-04]])"
      ]
     },
     "execution_count": 50,
     "metadata": {},
     "output_type": "execute_result"
    }
   ],
   "source": [
    "confidence_scores"
   ]
  },
  {
   "cell_type": "code",
   "execution_count": 70,
   "id": "29ba7385",
   "metadata": {},
   "outputs": [],
   "source": [
    "def get_result(test_sample):\n",
    "\n",
    "    confidence_scores = model.predict_proba(test_sample)\n",
    "    non_fraud_confidence_scores = [confidence_scores[i][0] for i in range(len(test_sample))]\n",
    "    res_list = [0 if non_fraud_confidence >= 0.5 else 1 for non_fraud_confidence in non_fraud_confidence_scores]\n",
    "    \n",
    "    confidence_scores = [100 * (confidence_scores[i][res_list[i]]) for i in range(len(test_sample))]\n",
    "    res = [\"non_fraud\" if res == 0 else 'fraud' for res in res_list]\n",
    "    \n",
    "    print(f\"non fraud confidence_scores: {confidence_scores}\")\n",
    "    print(f\"res_list: {res}\")\n",
    "    \n",
    "    output = pd.DataFrame({\"prediction\": res, \"confidence_scores\": confidence_scores})\n",
    "    return output"
   ]
  },
  {
   "cell_type": "code",
   "execution_count": 79,
   "id": "f31c16cc",
   "metadata": {},
   "outputs": [],
   "source": [
    "test_sample = X_test.head()"
   ]
  },
  {
   "cell_type": "code",
   "execution_count": 80,
   "id": "8e12d57c",
   "metadata": {},
   "outputs": [
    {
     "name": "stderr",
     "output_type": "stream",
     "text": [
      "C:\\Users\\rahul\\AppData\\Local\\Temp\\ipykernel_10960\\1846613569.py:1: SettingWithCopyWarning: \n",
      "A value is trying to be set on a copy of a slice from a DataFrame.\n",
      "Try using .loc[row_indexer,col_indexer] = value instead\n",
      "\n",
      "See the caveats in the documentation: https://pandas.pydata.org/pandas-docs/stable/user_guide/indexing.html#returning-a-view-versus-a-copy\n",
      "  test_sample[\"transaction_id\"] = [i for i in range(len(test_sample))]\n"
     ]
    }
   ],
   "source": [
    "test_sample[\"transaction_id\"] = [i for i in range(len(test_sample))]"
   ]
  },
  {
   "cell_type": "code",
   "execution_count": 81,
   "id": "b9bacd57",
   "metadata": {},
   "outputs": [
    {
     "data": {
      "text/plain": [
       "'D:\\\\jupyter\\\\fraud_transaction_project_cdac\\\\best_aaproach'"
      ]
     },
     "execution_count": 81,
     "metadata": {},
     "output_type": "execute_result"
    }
   ],
   "source": [
    "pwd"
   ]
  },
  {
   "cell_type": "code",
   "execution_count": 82,
   "id": "d541dcce",
   "metadata": {},
   "outputs": [],
   "source": [
    "test_sample.head().to_csv(\"../vik_approach/test_sample_for_api.csv\", index=False)"
   ]
  },
  {
   "cell_type": "code",
   "execution_count": 83,
   "id": "419bea44",
   "metadata": {},
   "outputs": [
    {
     "data": {
      "text/html": [
       "<div>\n",
       "<style scoped>\n",
       "    .dataframe tbody tr th:only-of-type {\n",
       "        vertical-align: middle;\n",
       "    }\n",
       "\n",
       "    .dataframe tbody tr th {\n",
       "        vertical-align: top;\n",
       "    }\n",
       "\n",
       "    .dataframe thead th {\n",
       "        text-align: right;\n",
       "    }\n",
       "</style>\n",
       "<table border=\"1\" class=\"dataframe\">\n",
       "  <thead>\n",
       "    <tr style=\"text-align: right;\">\n",
       "      <th></th>\n",
       "      <th>V4</th>\n",
       "      <th>V6</th>\n",
       "      <th>V18</th>\n",
       "      <th>V19</th>\n",
       "      <th>asn_mapping</th>\n",
       "      <th>V5_hour</th>\n",
       "      <th>V5_minute</th>\n",
       "      <th>V13_hour</th>\n",
       "      <th>V13_minute</th>\n",
       "      <th>V16_hour</th>\n",
       "      <th>...</th>\n",
       "      <th>V13_day_of_week</th>\n",
       "      <th>V13_day_of_month</th>\n",
       "      <th>V13_month</th>\n",
       "      <th>V13_year</th>\n",
       "      <th>V16_day_of_week</th>\n",
       "      <th>V16_day_of_month</th>\n",
       "      <th>V16_month</th>\n",
       "      <th>V16_year</th>\n",
       "      <th>country_mapping_encoded</th>\n",
       "      <th>transaction_id</th>\n",
       "    </tr>\n",
       "  </thead>\n",
       "  <tbody>\n",
       "    <tr>\n",
       "      <th>288378</th>\n",
       "      <td>480.125</td>\n",
       "      <td>0</td>\n",
       "      <td>0.000000</td>\n",
       "      <td>0.0</td>\n",
       "      <td>-1.0</td>\n",
       "      <td>21</td>\n",
       "      <td>11</td>\n",
       "      <td>0.0</td>\n",
       "      <td>0.0</td>\n",
       "      <td>3.0</td>\n",
       "      <td>...</td>\n",
       "      <td>6.0</td>\n",
       "      <td>7.0</td>\n",
       "      <td>7.0</td>\n",
       "      <td>2020.0</td>\n",
       "      <td>6.0</td>\n",
       "      <td>15.0</td>\n",
       "      <td>4.0</td>\n",
       "      <td>2018.0</td>\n",
       "      <td>38</td>\n",
       "      <td>0</td>\n",
       "    </tr>\n",
       "    <tr>\n",
       "      <th>284877</th>\n",
       "      <td>208.750</td>\n",
       "      <td>0</td>\n",
       "      <td>0.000000</td>\n",
       "      <td>1036290.0</td>\n",
       "      <td>209910.0</td>\n",
       "      <td>2</td>\n",
       "      <td>12</td>\n",
       "      <td>0.0</td>\n",
       "      <td>0.0</td>\n",
       "      <td>0.0</td>\n",
       "      <td>...</td>\n",
       "      <td>6.0</td>\n",
       "      <td>7.0</td>\n",
       "      <td>7.0</td>\n",
       "      <td>2020.0</td>\n",
       "      <td>5.0</td>\n",
       "      <td>23.0</td>\n",
       "      <td>12.0</td>\n",
       "      <td>2017.0</td>\n",
       "      <td>32</td>\n",
       "      <td>1</td>\n",
       "    </tr>\n",
       "    <tr>\n",
       "      <th>656591</th>\n",
       "      <td>8.350</td>\n",
       "      <td>33227</td>\n",
       "      <td>24.492806</td>\n",
       "      <td>0.0</td>\n",
       "      <td>-1.0</td>\n",
       "      <td>20</td>\n",
       "      <td>40</td>\n",
       "      <td>0.0</td>\n",
       "      <td>0.0</td>\n",
       "      <td>10.0</td>\n",
       "      <td>...</td>\n",
       "      <td>2.0</td>\n",
       "      <td>22.0</td>\n",
       "      <td>1.0</td>\n",
       "      <td>2020.0</td>\n",
       "      <td>2.0</td>\n",
       "      <td>15.0</td>\n",
       "      <td>1.0</td>\n",
       "      <td>2018.0</td>\n",
       "      <td>38</td>\n",
       "      <td>2</td>\n",
       "    </tr>\n",
       "    <tr>\n",
       "      <th>81627</th>\n",
       "      <td>167.000</td>\n",
       "      <td>0</td>\n",
       "      <td>0.000000</td>\n",
       "      <td>1036290.0</td>\n",
       "      <td>209910.0</td>\n",
       "      <td>5</td>\n",
       "      <td>11</td>\n",
       "      <td>0.0</td>\n",
       "      <td>0.0</td>\n",
       "      <td>14.0</td>\n",
       "      <td>...</td>\n",
       "      <td>6.0</td>\n",
       "      <td>7.0</td>\n",
       "      <td>7.0</td>\n",
       "      <td>2020.0</td>\n",
       "      <td>2.0</td>\n",
       "      <td>28.0</td>\n",
       "      <td>3.0</td>\n",
       "      <td>2018.0</td>\n",
       "      <td>32</td>\n",
       "      <td>3</td>\n",
       "    </tr>\n",
       "    <tr>\n",
       "      <th>561437</th>\n",
       "      <td>918.500</td>\n",
       "      <td>2789</td>\n",
       "      <td>0.000000</td>\n",
       "      <td>0.0</td>\n",
       "      <td>-1.0</td>\n",
       "      <td>4</td>\n",
       "      <td>52</td>\n",
       "      <td>0.0</td>\n",
       "      <td>0.0</td>\n",
       "      <td>1.0</td>\n",
       "      <td>...</td>\n",
       "      <td>0.0</td>\n",
       "      <td>24.0</td>\n",
       "      <td>8.0</td>\n",
       "      <td>2020.0</td>\n",
       "      <td>1.0</td>\n",
       "      <td>29.0</td>\n",
       "      <td>5.0</td>\n",
       "      <td>2018.0</td>\n",
       "      <td>38</td>\n",
       "      <td>4</td>\n",
       "    </tr>\n",
       "  </tbody>\n",
       "</table>\n",
       "<p>5 rows × 25 columns</p>\n",
       "</div>"
      ],
      "text/plain": [
       "             V4     V6        V18        V19  asn_mapping  V5_hour  V5_minute  \\\n",
       "288378  480.125      0   0.000000        0.0         -1.0       21         11   \n",
       "284877  208.750      0   0.000000  1036290.0     209910.0        2         12   \n",
       "656591    8.350  33227  24.492806        0.0         -1.0       20         40   \n",
       "81627   167.000      0   0.000000  1036290.0     209910.0        5         11   \n",
       "561437  918.500   2789   0.000000        0.0         -1.0        4         52   \n",
       "\n",
       "        V13_hour  V13_minute  V16_hour  ...  V13_day_of_week  \\\n",
       "288378       0.0         0.0       3.0  ...              6.0   \n",
       "284877       0.0         0.0       0.0  ...              6.0   \n",
       "656591       0.0         0.0      10.0  ...              2.0   \n",
       "81627        0.0         0.0      14.0  ...              6.0   \n",
       "561437       0.0         0.0       1.0  ...              0.0   \n",
       "\n",
       "        V13_day_of_month  V13_month  V13_year  V16_day_of_week  \\\n",
       "288378               7.0        7.0    2020.0              6.0   \n",
       "284877               7.0        7.0    2020.0              5.0   \n",
       "656591              22.0        1.0    2020.0              2.0   \n",
       "81627                7.0        7.0    2020.0              2.0   \n",
       "561437              24.0        8.0    2020.0              1.0   \n",
       "\n",
       "        V16_day_of_month  V16_month  V16_year  country_mapping_encoded  \\\n",
       "288378              15.0        4.0    2018.0                       38   \n",
       "284877              23.0       12.0    2017.0                       32   \n",
       "656591              15.0        1.0    2018.0                       38   \n",
       "81627               28.0        3.0    2018.0                       32   \n",
       "561437              29.0        5.0    2018.0                       38   \n",
       "\n",
       "        transaction_id  \n",
       "288378               0  \n",
       "284877               1  \n",
       "656591               2  \n",
       "81627                3  \n",
       "561437               4  \n",
       "\n",
       "[5 rows x 25 columns]"
      ]
     },
     "execution_count": 83,
     "metadata": {},
     "output_type": "execute_result"
    }
   ],
   "source": [
    "test_sample"
   ]
  },
  {
   "cell_type": "code",
   "execution_count": 85,
   "id": "9cf47df6",
   "metadata": {},
   "outputs": [],
   "source": [
    "req = test_sample.to_dict()"
   ]
  },
  {
   "cell_type": "code",
   "execution_count": 88,
   "id": "2c4de350",
   "metadata": {},
   "outputs": [],
   "source": [
    "data = pd.DataFrame(req, columns=list(req.keys()))"
   ]
  },
  {
   "cell_type": "code",
   "execution_count": 89,
   "id": "d4fb895c",
   "metadata": {},
   "outputs": [
    {
     "data": {
      "text/html": [
       "<div>\n",
       "<style scoped>\n",
       "    .dataframe tbody tr th:only-of-type {\n",
       "        vertical-align: middle;\n",
       "    }\n",
       "\n",
       "    .dataframe tbody tr th {\n",
       "        vertical-align: top;\n",
       "    }\n",
       "\n",
       "    .dataframe thead th {\n",
       "        text-align: right;\n",
       "    }\n",
       "</style>\n",
       "<table border=\"1\" class=\"dataframe\">\n",
       "  <thead>\n",
       "    <tr style=\"text-align: right;\">\n",
       "      <th></th>\n",
       "      <th>V4</th>\n",
       "      <th>V6</th>\n",
       "      <th>V18</th>\n",
       "      <th>V19</th>\n",
       "      <th>asn_mapping</th>\n",
       "      <th>V5_hour</th>\n",
       "      <th>V5_minute</th>\n",
       "      <th>V13_hour</th>\n",
       "      <th>V13_minute</th>\n",
       "      <th>V16_hour</th>\n",
       "      <th>...</th>\n",
       "      <th>V13_day_of_week</th>\n",
       "      <th>V13_day_of_month</th>\n",
       "      <th>V13_month</th>\n",
       "      <th>V13_year</th>\n",
       "      <th>V16_day_of_week</th>\n",
       "      <th>V16_day_of_month</th>\n",
       "      <th>V16_month</th>\n",
       "      <th>V16_year</th>\n",
       "      <th>country_mapping_encoded</th>\n",
       "      <th>transaction_id</th>\n",
       "    </tr>\n",
       "  </thead>\n",
       "  <tbody>\n",
       "    <tr>\n",
       "      <th>288378</th>\n",
       "      <td>480.125</td>\n",
       "      <td>0</td>\n",
       "      <td>0.000000</td>\n",
       "      <td>0.0</td>\n",
       "      <td>-1.0</td>\n",
       "      <td>21</td>\n",
       "      <td>11</td>\n",
       "      <td>0.0</td>\n",
       "      <td>0.0</td>\n",
       "      <td>3.0</td>\n",
       "      <td>...</td>\n",
       "      <td>6.0</td>\n",
       "      <td>7.0</td>\n",
       "      <td>7.0</td>\n",
       "      <td>2020.0</td>\n",
       "      <td>6.0</td>\n",
       "      <td>15.0</td>\n",
       "      <td>4.0</td>\n",
       "      <td>2018.0</td>\n",
       "      <td>38</td>\n",
       "      <td>0</td>\n",
       "    </tr>\n",
       "    <tr>\n",
       "      <th>284877</th>\n",
       "      <td>208.750</td>\n",
       "      <td>0</td>\n",
       "      <td>0.000000</td>\n",
       "      <td>1036290.0</td>\n",
       "      <td>209910.0</td>\n",
       "      <td>2</td>\n",
       "      <td>12</td>\n",
       "      <td>0.0</td>\n",
       "      <td>0.0</td>\n",
       "      <td>0.0</td>\n",
       "      <td>...</td>\n",
       "      <td>6.0</td>\n",
       "      <td>7.0</td>\n",
       "      <td>7.0</td>\n",
       "      <td>2020.0</td>\n",
       "      <td>5.0</td>\n",
       "      <td>23.0</td>\n",
       "      <td>12.0</td>\n",
       "      <td>2017.0</td>\n",
       "      <td>32</td>\n",
       "      <td>1</td>\n",
       "    </tr>\n",
       "    <tr>\n",
       "      <th>656591</th>\n",
       "      <td>8.350</td>\n",
       "      <td>33227</td>\n",
       "      <td>24.492806</td>\n",
       "      <td>0.0</td>\n",
       "      <td>-1.0</td>\n",
       "      <td>20</td>\n",
       "      <td>40</td>\n",
       "      <td>0.0</td>\n",
       "      <td>0.0</td>\n",
       "      <td>10.0</td>\n",
       "      <td>...</td>\n",
       "      <td>2.0</td>\n",
       "      <td>22.0</td>\n",
       "      <td>1.0</td>\n",
       "      <td>2020.0</td>\n",
       "      <td>2.0</td>\n",
       "      <td>15.0</td>\n",
       "      <td>1.0</td>\n",
       "      <td>2018.0</td>\n",
       "      <td>38</td>\n",
       "      <td>2</td>\n",
       "    </tr>\n",
       "    <tr>\n",
       "      <th>81627</th>\n",
       "      <td>167.000</td>\n",
       "      <td>0</td>\n",
       "      <td>0.000000</td>\n",
       "      <td>1036290.0</td>\n",
       "      <td>209910.0</td>\n",
       "      <td>5</td>\n",
       "      <td>11</td>\n",
       "      <td>0.0</td>\n",
       "      <td>0.0</td>\n",
       "      <td>14.0</td>\n",
       "      <td>...</td>\n",
       "      <td>6.0</td>\n",
       "      <td>7.0</td>\n",
       "      <td>7.0</td>\n",
       "      <td>2020.0</td>\n",
       "      <td>2.0</td>\n",
       "      <td>28.0</td>\n",
       "      <td>3.0</td>\n",
       "      <td>2018.0</td>\n",
       "      <td>32</td>\n",
       "      <td>3</td>\n",
       "    </tr>\n",
       "    <tr>\n",
       "      <th>561437</th>\n",
       "      <td>918.500</td>\n",
       "      <td>2789</td>\n",
       "      <td>0.000000</td>\n",
       "      <td>0.0</td>\n",
       "      <td>-1.0</td>\n",
       "      <td>4</td>\n",
       "      <td>52</td>\n",
       "      <td>0.0</td>\n",
       "      <td>0.0</td>\n",
       "      <td>1.0</td>\n",
       "      <td>...</td>\n",
       "      <td>0.0</td>\n",
       "      <td>24.0</td>\n",
       "      <td>8.0</td>\n",
       "      <td>2020.0</td>\n",
       "      <td>1.0</td>\n",
       "      <td>29.0</td>\n",
       "      <td>5.0</td>\n",
       "      <td>2018.0</td>\n",
       "      <td>38</td>\n",
       "      <td>4</td>\n",
       "    </tr>\n",
       "  </tbody>\n",
       "</table>\n",
       "<p>5 rows × 25 columns</p>\n",
       "</div>"
      ],
      "text/plain": [
       "             V4     V6        V18        V19  asn_mapping  V5_hour  V5_minute  \\\n",
       "288378  480.125      0   0.000000        0.0         -1.0       21         11   \n",
       "284877  208.750      0   0.000000  1036290.0     209910.0        2         12   \n",
       "656591    8.350  33227  24.492806        0.0         -1.0       20         40   \n",
       "81627   167.000      0   0.000000  1036290.0     209910.0        5         11   \n",
       "561437  918.500   2789   0.000000        0.0         -1.0        4         52   \n",
       "\n",
       "        V13_hour  V13_minute  V16_hour  ...  V13_day_of_week  \\\n",
       "288378       0.0         0.0       3.0  ...              6.0   \n",
       "284877       0.0         0.0       0.0  ...              6.0   \n",
       "656591       0.0         0.0      10.0  ...              2.0   \n",
       "81627        0.0         0.0      14.0  ...              6.0   \n",
       "561437       0.0         0.0       1.0  ...              0.0   \n",
       "\n",
       "        V13_day_of_month  V13_month  V13_year  V16_day_of_week  \\\n",
       "288378               7.0        7.0    2020.0              6.0   \n",
       "284877               7.0        7.0    2020.0              5.0   \n",
       "656591              22.0        1.0    2020.0              2.0   \n",
       "81627                7.0        7.0    2020.0              2.0   \n",
       "561437              24.0        8.0    2020.0              1.0   \n",
       "\n",
       "        V16_day_of_month  V16_month  V16_year  country_mapping_encoded  \\\n",
       "288378              15.0        4.0    2018.0                       38   \n",
       "284877              23.0       12.0    2017.0                       32   \n",
       "656591              15.0        1.0    2018.0                       38   \n",
       "81627               28.0        3.0    2018.0                       32   \n",
       "561437              29.0        5.0    2018.0                       38   \n",
       "\n",
       "        transaction_id  \n",
       "288378               0  \n",
       "284877               1  \n",
       "656591               2  \n",
       "81627                3  \n",
       "561437               4  \n",
       "\n",
       "[5 rows x 25 columns]"
      ]
     },
     "execution_count": 89,
     "metadata": {},
     "output_type": "execute_result"
    }
   ],
   "source": [
    "data"
   ]
  },
  {
   "cell_type": "code",
   "execution_count": 71,
   "id": "6aac12bf",
   "metadata": {},
   "outputs": [
    {
     "name": "stdout",
     "output_type": "stream",
     "text": [
      "non fraud confidence_scores: [99.99962247059796, 99.9990346922534, 99.99255678273052, 99.99950201955326, 99.97332255118447]\n",
      "res_list: ['non_fraud', 'non_fraud', 'non_fraud', 'non_fraud', 'non_fraud']\n"
     ]
    },
    {
     "data": {
      "text/html": [
       "<div>\n",
       "<style scoped>\n",
       "    .dataframe tbody tr th:only-of-type {\n",
       "        vertical-align: middle;\n",
       "    }\n",
       "\n",
       "    .dataframe tbody tr th {\n",
       "        vertical-align: top;\n",
       "    }\n",
       "\n",
       "    .dataframe thead th {\n",
       "        text-align: right;\n",
       "    }\n",
       "</style>\n",
       "<table border=\"1\" class=\"dataframe\">\n",
       "  <thead>\n",
       "    <tr style=\"text-align: right;\">\n",
       "      <th></th>\n",
       "      <th>prediction</th>\n",
       "      <th>confidence_scores</th>\n",
       "    </tr>\n",
       "  </thead>\n",
       "  <tbody>\n",
       "    <tr>\n",
       "      <th>0</th>\n",
       "      <td>non_fraud</td>\n",
       "      <td>99.999622</td>\n",
       "    </tr>\n",
       "    <tr>\n",
       "      <th>1</th>\n",
       "      <td>non_fraud</td>\n",
       "      <td>99.999035</td>\n",
       "    </tr>\n",
       "    <tr>\n",
       "      <th>2</th>\n",
       "      <td>non_fraud</td>\n",
       "      <td>99.992557</td>\n",
       "    </tr>\n",
       "    <tr>\n",
       "      <th>3</th>\n",
       "      <td>non_fraud</td>\n",
       "      <td>99.999502</td>\n",
       "    </tr>\n",
       "    <tr>\n",
       "      <th>4</th>\n",
       "      <td>non_fraud</td>\n",
       "      <td>99.973323</td>\n",
       "    </tr>\n",
       "  </tbody>\n",
       "</table>\n",
       "</div>"
      ],
      "text/plain": [
       "  prediction  confidence_scores\n",
       "0  non_fraud          99.999622\n",
       "1  non_fraud          99.999035\n",
       "2  non_fraud          99.992557\n",
       "3  non_fraud          99.999502\n",
       "4  non_fraud          99.973323"
      ]
     },
     "execution_count": 71,
     "metadata": {},
     "output_type": "execute_result"
    }
   ],
   "source": [
    "get_result(X_test.head())"
   ]
  },
  {
   "cell_type": "code",
   "execution_count": 37,
   "id": "3cae2b51",
   "metadata": {},
   "outputs": [
    {
     "data": {
      "text/plain": [
       "0"
      ]
     },
     "execution_count": 37,
     "metadata": {},
     "output_type": "execute_result"
    }
   ],
   "source": [
    "1 if confidence_scores[0][1] >= 0.5 else 0"
   ]
  },
  {
   "cell_type": "code",
   "execution_count": 10,
   "id": "5d697736",
   "metadata": {},
   "outputs": [
    {
     "name": "stdout",
     "output_type": "stream",
     "text": [
      "0:\tlearn: 0.4014888\ttest: 0.4013880\tbest: 0.4013880 (0)\ttotal: 224ms\tremaining: 3m 44s\n",
      "100:\tlearn: 0.0053234\ttest: 0.0057384\tbest: 0.0057384 (100)\ttotal: 7.83s\tremaining: 1m 9s\n",
      "200:\tlearn: 0.0042935\ttest: 0.0051765\tbest: 0.0051765 (200)\ttotal: 15.8s\tremaining: 1m 2s\n",
      "300:\tlearn: 0.0035996\ttest: 0.0047878\tbest: 0.0047863 (298)\ttotal: 22.5s\tremaining: 52.3s\n",
      "400:\tlearn: 0.0031710\ttest: 0.0045634\tbest: 0.0045634 (400)\ttotal: 28.9s\tremaining: 43.1s\n",
      "500:\tlearn: 0.0028102\ttest: 0.0044291\tbest: 0.0044240 (498)\ttotal: 35.4s\tremaining: 35.2s\n",
      "600:\tlearn: 0.0025314\ttest: 0.0043516\tbest: 0.0043491 (597)\ttotal: 41.8s\tremaining: 27.8s\n",
      "700:\tlearn: 0.0023052\ttest: 0.0042683\tbest: 0.0042650 (692)\ttotal: 48.3s\tremaining: 20.6s\n",
      "800:\tlearn: 0.0021826\ttest: 0.0042543\tbest: 0.0042539 (790)\ttotal: 54.6s\tremaining: 13.6s\n",
      "900:\tlearn: 0.0020332\ttest: 0.0042217\tbest: 0.0042188 (896)\ttotal: 1m 1s\tremaining: 6.71s\n",
      "Stopped by overfitting detector  (50 iterations wait)\n",
      "\n",
      "bestTest = 0.004209484074\n",
      "bestIteration = 934\n",
      "\n",
      "Shrink model to first 935 iterations.\n"
     ]
    },
    {
     "data": {
      "text/plain": [
       "<catboost.core.CatBoostClassifier at 0x2810280b9a0>"
      ]
     },
     "execution_count": 10,
     "metadata": {},
     "output_type": "execute_result"
    }
   ],
   "source": [
    "\n",
    "# Define model and its hyperparameters\n",
    "model = CatBoostClassifier(iterations=1000, \n",
    "                           learning_rate=0.1, \n",
    "                           depth=6, \n",
    "                           l2_leaf_reg=3, \n",
    "                           loss_function='Logloss', \n",
    "                           random_seed=42,\n",
    "                          cat_features=cat_features_idx)\n",
    "\n",
    "# Train model on training data\n",
    "model.fit(X_train, y_train, \n",
    "          eval_set=(X_test, y_test), \n",
    "          verbose=100, \n",
    "          early_stopping_rounds=50)\n",
    "\n"
   ]
  },
  {
   "cell_type": "code",
   "execution_count": 11,
   "id": "a49f57c3",
   "metadata": {},
   "outputs": [
    {
     "name": "stdout",
     "output_type": "stream",
     "text": [
      "Accuracy on testing data: 0.9989321647239923\n"
     ]
    }
   ],
   "source": [
    "# Evaluate model on testing data\n",
    "score = model.score(X_test, y_test)\n",
    "print(f\"Accuracy on testing data: {score}\")"
   ]
  },
  {
   "cell_type": "code",
   "execution_count": 12,
   "id": "83475773",
   "metadata": {},
   "outputs": [],
   "source": [
    "y_pred = model.predict(X_test)"
   ]
  },
  {
   "cell_type": "code",
   "execution_count": 13,
   "id": "5a828fbb",
   "metadata": {},
   "outputs": [],
   "source": [
    "from sklearn.metrics import classification_report, precision_recall_curve, auc"
   ]
  },
  {
   "cell_type": "code",
   "execution_count": 14,
   "id": "1c7e94b6",
   "metadata": {},
   "outputs": [
    {
     "name": "stdout",
     "output_type": "stream",
     "text": [
      "              precision    recall  f1-score   support\n",
      "\n",
      "           0       1.00      1.00      1.00    138842\n",
      "           1       1.00      0.97      0.99      5375\n",
      "\n",
      "    accuracy                           1.00    144217\n",
      "   macro avg       1.00      0.99      0.99    144217\n",
      "weighted avg       1.00      1.00      1.00    144217\n",
      "\n"
     ]
    }
   ],
   "source": [
    "print(classification_report(y_test, y_pred))"
   ]
  },
  {
   "cell_type": "code",
   "execution_count": 15,
   "id": "4a5f1833",
   "metadata": {},
   "outputs": [],
   "source": [
    "precision, recall, thrs = precision_recall_curve(y_test, y_pred)"
   ]
  },
  {
   "cell_type": "code",
   "execution_count": 16,
   "id": "0fc3526c",
   "metadata": {},
   "outputs": [
    {
     "data": {
      "text/plain": [
       "94.88531560127878"
      ]
     },
     "execution_count": 16,
     "metadata": {},
     "output_type": "execute_result"
    }
   ],
   "source": [
    "max(0, 100 * auc(precision, recall))"
   ]
  },
  {
   "cell_type": "code",
   "execution_count": 17,
   "id": "61f7b30d",
   "metadata": {},
   "outputs": [
    {
     "name": "stdout",
     "output_type": "stream",
     "text": [
      "V5_month: 14.988792565700889\n",
      "V6: 14.725153727841292\n",
      "V13_year: 12.762463538126694\n",
      "V4: 11.982157337702269\n",
      "V13_month: 8.924969039959851\n",
      "V5_day_of_month: 8.073628919841472\n",
      "V5_day_of_week: 7.213415471038717\n",
      "V13_day_of_month: 7.20436287740644\n",
      "V5_hour: 6.460174984217833\n",
      "V13_day_of_week: 4.645830427092526\n",
      "V5_minute: 1.5776610288858004\n",
      "V18: 0.5725576531549788\n",
      "V16_minute: 0.41872752213625625\n",
      "V16_hour: 0.3441883965198556\n",
      "V16_day_of_week: 0.037826637491980244\n",
      "V16_year: 0.034723165024023325\n",
      "V16_day_of_month: 0.016061050026863262\n",
      "asn_mapping: 0.008828739747575021\n",
      "V19: 0.00454727801766274\n",
      "country_mapping_encoded: 0.003929640067023044\n",
      "V13_hour: 0.0\n",
      "V13_minute: 0.0\n",
      "V5_year: 0.0\n",
      "V16_month: 0.0\n"
     ]
    }
   ],
   "source": [
    "import catboost as cb\n",
    "\n",
    "# Assuming you have a trained CatBoost model named 'model'\n",
    "\n",
    "# Get feature importances\n",
    "importances = model.feature_importances_\n",
    "\n",
    "# Get feature names\n",
    "feature_names = model.feature_names_\n",
    "\n",
    "# Pair feature importances with feature names\n",
    "feature_importances = list(zip(feature_names, importances))\n",
    "\n",
    "# Sort feature importances in descending order\n",
    "feature_importances.sort(key=lambda x: x[1], reverse=True)\n",
    "\n",
    "# Print feature importances\n",
    "for feature, importance in feature_importances:\n",
    "    print(f\"{feature}: {importance}\")\n"
   ]
  },
  {
   "cell_type": "code",
   "execution_count": 18,
   "id": "697c7140",
   "metadata": {},
   "outputs": [
    {
     "data": {
      "image/png": "[encoded data removed]",
      "text/plain": [
       "<Figure size 1200x800 with 1 Axes>"
      ]
     },
     "metadata": {},
     "output_type": "display_data"
    }
   ],
   "source": [
    "import matplotlib.pyplot as plt\n",
    "\n",
    "# Assuming you have a list of feature names and their importance values\n",
    "feature_names = [\n",
    "    \"V5_month\", \"V6\", \"V13_year\", \"V4\", \"V13_month\", \"V5_day_of_month\",\n",
    "    \"V5_day_of_week\", \"V13_day_of_month\", \"V5_hour\", \"V13_day_of_week\",\n",
    "    \"V5_minute\", \"V18\", \"V16_minute\", \"V16_hour\", \"V16_day_of_week\",\n",
    "    \"V16_year\", \"V16_day_of_month\", \"asn_mapping\", \"V19\",\n",
    "    \"country_mapping_encoded\", \"V13_hour\", \"V13_minute\", \"V5_year\",\n",
    "    \"V16_month\"\n",
    "]\n",
    "importance_values = [\n",
    "    14.988792565700889, 14.725153727841292, 12.762463538126694,\n",
    "    11.982157337702269, 8.924969039959851, 8.073628919841472,\n",
    "    7.213415471038717, 7.20436287740644, 6.460174984217833,\n",
    "    4.645830427092526, 1.5776610288858004, 0.5725576531549788,\n",
    "    0.41872752213625625, 0.3441883965198556, 0.037826637491980244,\n",
    "    0.034723165024023325, 0.016061050026863262, 0.008828739747575021,\n",
    "    0.00454727801766274, 0.003929640067023044, 0.0, 0.0, 0.0, 0.0\n",
    "]\n",
    "\n",
    "# Create a bar plot\n",
    "plt.figure(figsize=(12, 8))\n",
    "plt.bar(feature_names, importance_values)\n",
    "plt.xticks(rotation=90)\n",
    "plt.xlabel('Features')\n",
    "plt.ylabel('Importance')\n",
    "plt.title('Feature Importance')\n",
    "\n",
    "plt.show()\n",
    "\n",
    "\n"
   ]
  },
  {
   "cell_type": "code",
   "execution_count": null,
   "id": "236d7c96",
   "metadata": {},
   "outputs": [],
   "source": []
  },
  {
   "cell_type": "code",
   "execution_count": 19,
   "id": "961aef08",
   "metadata": {},
   "outputs": [],
   "source": [
    "# from catboost import CatBoostClassifier\n",
    "# from sklearn.model_selection import train_test_split\n",
    "# from sklearn.metrics import f1_score, classification_report\n",
    "# from skopt import BayesSearchCV\n",
    "\n",
    "# # Split the data into train and test sets\n",
    "# X_train, X_test, y_train, y_test = train_test_split(X, y, test_size=0.2, random_state=42)\n",
    "\n",
    "# # Define the CatBoost model for classification\n",
    "# model = CatBoostClassifier()\n",
    "\n",
    "# # Define the hyperparameter search space for Bayesian optimization\n",
    "# param_space = {\n",
    "#     'max_depth': (3, 7),\n",
    "#     'learning_rate': (0.01, 0.3, 'log-uniform'),\n",
    "#     'n_estimators': (100, 300),\n",
    "# }\n",
    "\n",
    "# # Perform Bayesian optimization to find the best hyperparameters\n",
    "# bayes_search = BayesSearchCV(estimator=model, search_spaces=param_space, scoring='f1_macro', cv=5)\n",
    "# bayes_search.fit(X_train, y_train)\n",
    "\n",
    "# # Get the best model from the Bayesian optimization\n",
    "# best_model = bayes_search.best_estimator_\n",
    "\n",
    "# # Make predictions on the test set using the best model\n",
    "# y_pred = best_model.predict(X_test)\n",
    "\n",
    "# # Compute the F1 score\n",
    "# f1 = f1_score(y_test, y_pred)\n",
    "\n",
    "# # Print the classification report\n",
    "# report = classification_report(y_test, y_pred)\n",
    "# print(\"F1 Score:\", f1)\n",
    "# print(\"Classification Report:\\n\", report)\n"
   ]
  },
  {
   "cell_type": "code",
   "execution_count": 20,
   "id": "8917971e",
   "metadata": {},
   "outputs": [],
   "source": [
    "precision, recall, thrs = precision_recall_curve(y_test, y_pred)"
   ]
  },
  {
   "cell_type": "code",
   "execution_count": 21,
   "id": "f68a843a",
   "metadata": {},
   "outputs": [
    {
     "data": {
      "text/plain": [
       "94.88531560127878"
      ]
     },
     "execution_count": 21,
     "metadata": {},
     "output_type": "execute_result"
    }
   ],
   "source": [
    "max(0, 100 * auc(precision, recall))"
   ]
  },
  {
   "cell_type": "code",
   "execution_count": 22,
   "id": "505deaf8",
   "metadata": {},
   "outputs": [],
   "source": [
    "# import xgboost as xgb\n",
    "# from sklearn.model_selection import train_test_split\n",
    "# from sklearn.metrics import f1_score, classification_report\n",
    "\n",
    "# # Split the data into train and test sets\n",
    "# X_train, X_test, y_train, y_test = train_test_split(X, y, test_size=0.2, random_state=42)\n",
    "\n",
    "# # Define the XGBoost model for classification\n",
    "# model_ = xgb.XGBClassifier()\n",
    "\n",
    "# # Train the model\n",
    "# model.fit(X_train, y_train)\n",
    "\n",
    "# # Make predictions on the test set\n",
    "# y_pred = model.predict(X_test)\n",
    "\n",
    "# # Compute the F1 score\n",
    "# f1 = f1_score(y_test, y_pred)\n",
    "\n",
    "# # Print the classification report\n",
    "# report = classification_report(y_test, y_pred)\n",
    "# print(\"F1 Score:\", f1)\n",
    "# print(\"Classification Report:\\n\", report)\n"
   ]
  },
  {
   "cell_type": "code",
   "execution_count": 23,
   "id": "3357b7bb",
   "metadata": {},
   "outputs": [
    {
     "name": "stdout",
     "output_type": "stream",
     "text": [
      "V5_month: 14.988792565700889\n",
      "V6: 14.725153727841292\n",
      "V13_year: 12.762463538126694\n",
      "V4: 11.982157337702269\n",
      "V13_month: 8.924969039959851\n",
      "V5_day_of_month: 8.073628919841472\n",
      "V5_day_of_week: 7.213415471038717\n",
      "V13_day_of_month: 7.20436287740644\n",
      "V5_hour: 6.460174984217833\n",
      "V13_day_of_week: 4.645830427092526\n",
      "V5_minute: 1.5776610288858004\n",
      "V18: 0.5725576531549788\n",
      "V16_minute: 0.41872752213625625\n",
      "V16_hour: 0.3441883965198556\n",
      "V16_day_of_week: 0.037826637491980244\n",
      "V16_year: 0.034723165024023325\n",
      "V16_day_of_month: 0.016061050026863262\n",
      "asn_mapping: 0.008828739747575021\n",
      "V19: 0.00454727801766274\n",
      "country_mapping_encoded: 0.003929640067023044\n",
      "V13_hour: 0.0\n",
      "V13_minute: 0.0\n",
      "V5_year: 0.0\n",
      "V16_month: 0.0\n"
     ]
    }
   ],
   "source": [
    "import xgboost as xgb\n",
    "\n",
    "# Assuming you have a trained XGBoost model named 'model'\n",
    "# and the preprocessed feature data is stored in 'X'\n",
    "\n",
    "# Get feature importances\n",
    "importances = model.feature_importances_\n",
    "\n",
    "# Get feature names\n",
    "feature_names = X.columns\n",
    "\n",
    "# Pair feature importances with feature names\n",
    "feature_importances = list(zip(feature_names, importances))\n",
    "\n",
    "# Sort feature importances in descending order\n",
    "feature_importances.sort(key=lambda x: x[1], reverse=True)\n",
    "\n",
    "# Print feature importances\n",
    "for feature, importance in feature_importances:\n",
    "    print(f\"{feature}: {importance}\")\n"
   ]
  },
  {
   "cell_type": "code",
   "execution_count": 24,
   "id": "71d7f3ea",
   "metadata": {},
   "outputs": [],
   "source": [
    "precision, recall, thrs = precision_recall_curve(y_test, y_pred)"
   ]
  },
  {
   "cell_type": "code",
   "execution_count": 25,
   "id": "5c9b3f63",
   "metadata": {},
   "outputs": [
    {
     "data": {
      "text/plain": [
       "94.88531560127878"
      ]
     },
     "execution_count": 25,
     "metadata": {},
     "output_type": "execute_result"
    }
   ],
   "source": [
    "max(0, 100 * auc(precision, recall))"
   ]
  },
  {
   "cell_type": "code",
   "execution_count": 26,
   "id": "029f86ba",
   "metadata": {},
   "outputs": [],
   "source": [
    "# # Split the data into train and test sets\n",
    "# X_train, X_test, y_train, y_test = train_test_split(X, y, test_size=0.2, random_state=42)\n",
    "\n",
    "# # Define the XGBoost model for classification\n",
    "# model = xgb.XGBClassifier()\n",
    "\n",
    "# # Define the hyperparameter search space for Bayesian optimization\n",
    "# param_space = {\n",
    "#     'max_depth': (3, 7),\n",
    "#     'learning_rate': (0.001, 0.1, 'log-uniform'),\n",
    "#     'n_estimators': (100, 300),\n",
    "# }\n",
    "\n",
    "# # Perform Bayesian optimization to find the best hyperparameters\n",
    "# bayes_search = BayesSearchCV(estimator=model, search_spaces=param_space, scoring='f1_macro', cv=5)\n",
    "# bayes_search.fit(X_train, y_train)\n",
    "\n",
    "# # Get the best model from the Bayesian optimization\n",
    "# best_model = bayes_search.best_estimator_\n",
    "\n",
    "# # Make predictions on the test set using the best model\n",
    "# y_pred = best_model.predict(X_test)\n",
    "\n",
    "# # Compute the F1 score\n",
    "# f1 = f1_score(y_test, y_pred)\n",
    "\n",
    "# # Print the classification report\n",
    "# report = classification_report(y_test, y_pred)\n",
    "# print(\"F1 Score:\", f1)\n",
    "# print(\"Classification Report:\\n\", report)\n"
   ]
  },
  {
   "cell_type": "code",
   "execution_count": 27,
   "id": "62b3dc5c",
   "metadata": {},
   "outputs": [],
   "source": [
    "precision, recall, thrs = precision_recall_curve(y_test, y_pred)"
   ]
  },
  {
   "cell_type": "code",
   "execution_count": 28,
   "id": "302f94a3",
   "metadata": {},
   "outputs": [
    {
     "data": {
      "text/plain": [
       "94.88531560127878"
      ]
     },
     "execution_count": 28,
     "metadata": {},
     "output_type": "execute_result"
    }
   ],
   "source": [
    "max(0, 100 * auc(precision, recall))"
   ]
  },
  {
   "cell_type": "code",
   "execution_count": 29,
   "id": "5e1df950",
   "metadata": {},
   "outputs": [],
   "source": [
    "import pickle\n"
   ]
  },
  {
   "cell_type": "code",
   "execution_count": 30,
   "id": "ec39045c",
   "metadata": {},
   "outputs": [],
   "source": [
    "# Assuming you have trained a model and stored it in the `model` variable\n",
    "with open('best_model.pkl', 'wb') as file:\n",
    "    pickle.dump(model, file)\n"
   ]
  },
  {
   "cell_type": "code",
   "execution_count": null,
   "id": "9ea83df2",
   "metadata": {},
   "outputs": [],
   "source": []
  },
  {
   "cell_type": "code",
   "execution_count": null,
   "id": "c2fffd43",
   "metadata": {},
   "outputs": [],
   "source": []
  }
 ],
 "metadata": {
  "kernelspec": {
   "display_name": "Python 3 (ipykernel)",
   "language": "python",
   "name": "python3"
  },
  "language_info": {
   "codemirror_mode": {
    "name": "ipython",
    "version": 3
   },
   "file_extension": ".py",
   "mimetype": "text/x-python",
   "name": "python",
   "nbconvert_exporter": "python",
   "pygments_lexer": "ipython3",
   "version": "3.10.9"
  }
 },
 "nbformat": 4,
 "nbformat_minor": 5
}
